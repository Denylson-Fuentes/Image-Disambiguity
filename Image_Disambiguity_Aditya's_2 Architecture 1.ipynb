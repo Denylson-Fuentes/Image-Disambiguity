{
  "nbformat": 4,
  "nbformat_minor": 5,
  "metadata": {
    "accelerator": "GPU",
    "colab": {
      "name": "Image Disambiguity Aditya's_2.ipynb",
      "provenance": [],
      "collapsed_sections": [],
      "toc_visible": true
    },
    "kernelspec": {
      "display_name": "Python 3",
      "language": "python",
      "name": "python3"
    },
    "language_info": {
      "codemirror_mode": {
        "name": "ipython",
        "version": 3
      },
      "file_extension": ".py",
      "mimetype": "text/x-python",
      "name": "python",
      "nbconvert_exporter": "python",
      "pygments_lexer": "ipython3",
      "version": "3.8.3"
    }
  },
  "cells": [
    {
      "cell_type": "code",
      "metadata": {
        "id": "protecting-history"
      },
      "source": [
        "import torch as torch\n",
        "import torchvision as tv\n",
        "from torchvision import datasets\n",
        "from torchvision import transforms\n",
        "import matplotlib.pyplot as plt\n",
        "import matplotlib.image as image\n",
        "import cv2 as cv\n",
        "from PIL import Image\n",
        "import numpy as np\n",
        "from torchvision.datasets.vision import VisionDataset\n",
        "from typing import Any, Callable, Dict, List, Optional, Tuple\n",
        "import os\n",
        "import os.path\n",
        "from torch import nn\n",
        "from torchvision.datasets.mnist import read_image_file, read_label_file\n",
        "from torchvision.datasets.utils import download_and_extract_archive, extract_archive, verify_str_arg, check_integrity"
      ],
      "id": "protecting-history",
      "execution_count": null,
      "outputs": []
    },
    {
      "cell_type": "code",
      "metadata": {
        "id": "cardiac-somalia"
      },
      "source": [
        "class MNISTsuperimposed(VisionDataset):\n",
        "    \"\"\"`MNIST <http://yann.lecun.com/exdb/mnist/>`_ Dataset.\n",
        "\n",
        "    Args:\n",
        "        root (string): Root directory of dataset where ``MNIST/processed/training.pt``\n",
        "            and  ``MNIST/processed/test.pt`` exist.\n",
        "        train (bool, optional): If True, creates dataset from ``training.pt``,\n",
        "            otherwise from ``test.pt``.\n",
        "        download (bool, optional): If true, downloads the dataset from the internet and\n",
        "            puts it in root directory. If dataset is already downloaded, it is not\n",
        "            downloaded again.\n",
        "        transform (callable, optional): A function/transform that  takes in an PIL image\n",
        "            and returns a transformed version. E.g, ``transforms.RandomCrop``\n",
        "        target_transform (callable, optional): A function/transform that takes in the\n",
        "            target and transforms it.\n",
        "    \"\"\"\n",
        "\n",
        "    mirrors = [\n",
        "        'http://yann.lecun.com/exdb/mnist/',\n",
        "        'https://ossci-datasets.s3.amazonaws.com/mnist/',\n",
        "    ]\n",
        "\n",
        "    resources = [\n",
        "        (\"train-images-idx3-ubyte.gz\", \"f68b3c2dcbeaaa9fbdd348bbdeb94873\"),\n",
        "        (\"train-labels-idx1-ubyte.gz\", \"d53e105ee54ea40749a09fcbcd1e9432\"),\n",
        "        (\"t10k-images-idx3-ubyte.gz\", \"9fb629c4189551a2d022fa330f9573f3\"),\n",
        "        (\"t10k-labels-idx1-ubyte.gz\", \"ec29112dd5afa0611ce80d1b7f02629c\")\n",
        "    ]\n",
        "\n",
        "    training_file = 'training.pt'\n",
        "    test_file = 'test.pt'\n",
        "    classes = ['0 - zero', '1 - one', '2 - two', '3 - three', '4 - four',\n",
        "               '5 - five', '6 - six', '7 - seven', '8 - eight', '9 - nine']\n",
        "\n",
        "    @property\n",
        "    def train_labels(self):\n",
        "        warnings.warn(\"train_labels has been renamed targets\")\n",
        "        return self.targets\n",
        "\n",
        "    @property\n",
        "    def test_labels(self):\n",
        "        warnings.warn(\"test_labels has been renamed targets\")\n",
        "        return self.targets\n",
        "\n",
        "    @property\n",
        "    def train_data(self):\n",
        "        warnings.warn(\"train_data has been renamed data\")\n",
        "        return self.data\n",
        "\n",
        "    @property\n",
        "    def test_data(self):\n",
        "        warnings.warn(\"test_data has been renamed data\")\n",
        "        return self.data\n",
        "\n",
        "    def __init__(\n",
        "            self,\n",
        "            root,\n",
        "            train= True,\n",
        "            transform = None,\n",
        "            target_transform = None,\n",
        "            download = False,\n",
        "    ):\n",
        "        super(MNISTsuperimposed, self).__init__(root, transform=transform,\n",
        "                                    target_transform=target_transform)\n",
        "        self.train = train  # training set or test set\n",
        "\n",
        "        if self._check_legacy_exist():\n",
        "            self.data, self.targets = self._load_legacy_data()\n",
        "\n",
        "        if download:\n",
        "            self.download()\n",
        "\n",
        "        if not self._check_exists():\n",
        "            raise RuntimeError('Dataset not found.' +\n",
        "                               ' You can use download=True to download it')\n",
        "\n",
        "        self.data, self.targets = self._load_data()\n",
        "\n",
        "    def _check_legacy_exist(self):\n",
        "        processed_folder_exists = os.path.exists(self.processed_folder)\n",
        "        if not processed_folder_exists:\n",
        "            return False\n",
        "\n",
        "        return all(\n",
        "            check_integrity(os.path.join(self.processed_folder, file)) for file in (self.training_file, self.test_file)\n",
        "        )\n",
        "\n",
        "    def _load_legacy_data(self):\n",
        "        # This is for BC only. We no longer cache the data in a custom binary, but simply read from the raw data\n",
        "        # directly.\n",
        "        data_file = self.training_file if self.train else self.test_file\n",
        "        return torch.load(os.path.join(self.processed_folder, data_file))\n",
        "\n",
        "    def _load_data(self):\n",
        "        image_file = f\"{'train' if self.train else 't10k'}-images-idx3-ubyte\"\n",
        "        data = read_image_file(os.path.join(self.raw_folder, image_file))\n",
        "        #Technically, we do not even need the labels for now\n",
        "        # We just need the clean images of both types\n",
        "        randata = data[torch.randperm(data.shape[0]),:,:]\n",
        "        targets = (data, randata)\n",
        "        \n",
        "        \n",
        "        # Now do the ambiguation here\n",
        "        data = data + randata\n",
        "        return data, targets\n",
        "\n",
        "    def __getitem__(self, index):\n",
        "        \"\"\"\n",
        "        Args:\n",
        "            index (int): Index\n",
        "\n",
        "        Returns:\n",
        "            tuple: (image, target) where target is index of the target class.\n",
        "        \"\"\"\n",
        "        img, target = self.data[index], (self.targets[0][index], self.targets[1][index])\n",
        "        # doing this so that it is consistent with all other datasets\n",
        "        # to return a PIL Imagedata[torch.randperm(data.shape[0]),:,:]\n",
        "        img = Image.fromarray(img.numpy(), mode='L')\n",
        "\n",
        "        if self.transform is not None:\n",
        "            img = self.transform(img)\n",
        "\n",
        "        if self.target_transform is not None:\n",
        "            target = self.target_transform(target)\n",
        "            \n",
        "\n",
        "        return img, target\n",
        "\n",
        "    def __len__(self):\n",
        "        return len(self.data)\n",
        "\n",
        "    @property\n",
        "    def raw_folder(self):\n",
        "        return os.path.join(self.root, self.__class__.__name__, 'raw')\n",
        "\n",
        "    @property\n",
        "    def processed_folder(self) -> str:\n",
        "        return os.path.join(self.root, self.__class__.__name__, 'processed')\n",
        "\n",
        "    @property\n",
        "    def class_to_idx(self):\n",
        "        return {_class: i for i, _class in enumerate(self.classes)}\n",
        "\n",
        "    def _check_exists(self):\n",
        "        return all(\n",
        "            check_integrity(os.path.join(self.raw_folder, os.path.splitext(os.path.basename(url))[0]))\n",
        "            for url, _ in self.resources\n",
        "        )\n",
        "\n",
        "    def download(self):\n",
        "        \"\"\"Download the MNIST data if it doesn't exist already.\"\"\"\n",
        "\n",
        "        if self._check_exists():\n",
        "            return\n",
        "\n",
        "        os.makedirs(self.raw_folder, exist_ok=True)\n",
        "\n",
        "        # download files\n",
        "        for filename, md5 in self.resources:\n",
        "            for mirror in self.mirrors:\n",
        "                url = \"{}{}\".format(mirror, filename)\n",
        "                try:\n",
        "                    print(\"Downloading {}\".format(url))\n",
        "                    download_and_extract_archive(\n",
        "                        url, download_root=self.raw_folder,\n",
        "                        filename=filename,\n",
        "                        md5=md5\n",
        "                    )\n",
        "                except URLError as error:\n",
        "                    print(\n",
        "                        \"Failed to download (trying next):\\n{}\".format(error)\n",
        "                    )\n",
        "                    continue\n",
        "                finally:\n",
        "                    print()\n",
        "                break\n",
        "            else:\n",
        "                raise RuntimeError(\"Error downloading {}\".format(filename))\n",
        "\n",
        "    def extra_repr(self) -> str:\n",
        "        return \"Split: {}\".format(\"Train\" if self.train is True else \"Test\")"
      ],
      "id": "cardiac-somalia",
      "execution_count": null,
      "outputs": []
    },
    {
      "cell_type": "code",
      "metadata": {
        "id": "experienced-norfolk"
      },
      "source": [
        "class Downsample(object):\n",
        "    def __init__(self, size=[1,196]):\n",
        "        self.size=size\n",
        "\n",
        "    def __call__(self, tensor):\n",
        "        img = np.squeeze(tensor)\n",
        "        m = torch.nn.AvgPool2d(2, stride=2)\n",
        "        return m(img.unsqueeze(0))\n",
        "\n",
        "    def __repr__(self):\n",
        "        return self.__class__.__name__+'({})'.format(self.size)"
      ],
      "id": "experienced-norfolk",
      "execution_count": null,
      "outputs": []
    },
    {
      "cell_type": "code",
      "metadata": {
        "colab": {
          "base_uri": "https://localhost:8080/"
        },
        "id": "figured-flooring",
        "outputId": "1d80a34e-fc8b-4ba0-c0de-8032bbfb5bd8"
      },
      "source": [
        "transform = transforms.Compose(\n",
        "    [transforms.Grayscale(),\n",
        "     transforms.ToTensor(),\n",
        "     Downsample()\n",
        "     ])\n",
        "mnist_superimposed = MNISTsuperimposed(\"./MNIST data/train\", train = True, download = True, transform = transform)"
      ],
      "id": "figured-flooring",
      "execution_count": null,
      "outputs": [
        {
          "output_type": "stream",
          "name": "stderr",
          "text": [
            "/usr/local/lib/python3.7/dist-packages/torchvision/datasets/mnist.py:498: UserWarning: The given NumPy array is not writeable, and PyTorch does not support non-writeable tensors. This means you can write to the underlying (supposedly non-writeable) NumPy array using the tensor. You may want to copy the array to protect its data or make it writeable before converting it to a tensor. This type of warning will be suppressed for the rest of this program. (Triggered internally at  /pytorch/torch/csrc/utils/tensor_numpy.cpp:180.)\n",
            "  return torch.from_numpy(parsed.astype(m[2], copy=False)).view(*s)\n"
          ]
        }
      ]
    },
    {
      "cell_type": "code",
      "metadata": {
        "id": "backed-bhutan"
      },
      "source": [
        "from torch.utils.data import DataLoader\n",
        "trainset = DataLoader(mnist_superimposed, batch_size=32, shuffle = False)"
      ],
      "id": "backed-bhutan",
      "execution_count": null,
      "outputs": []
    },
    {
      "cell_type": "code",
      "metadata": {
        "id": "regulation-florence"
      },
      "source": [
        "def show_images(dataset, training = True):\n",
        "    \n",
        "    fig = plt.figure(figsize = (20, 14))\n",
        "    rows = 3\n",
        "    columns = 4\n",
        "    j=0\n",
        "    for i in range(1,columns*rows+1):\n",
        "        if i >=1 and i< 5:\n",
        "            fig.add_subplot(rows, columns, i)\n",
        "\n",
        "            plt.imshow(dataset[i][0].squeeze(0))\n",
        "        if i >=5 and i < 9:\n",
        "            fig.add_subplot(rows, columns, i)\n",
        "            plt.imshow(dataset[i-4][1][0])\n",
        "        if i >= 9 and i<13:\n",
        "            fig.add_subplot(rows, columns, i)\n",
        "            plt.imshow(dataset[i-8][1][1])"
      ],
      "id": "regulation-florence",
      "execution_count": null,
      "outputs": []
    },
    {
      "cell_type": "code",
      "metadata": {
        "colab": {
          "base_uri": "https://localhost:8080/",
          "height": 809
        },
        "id": "hourly-secret",
        "outputId": "5f719f7c-920e-4472-a7ca-6e6efc8cb436"
      },
      "source": [
        "show_images(mnist_superimposed)"
      ],
      "id": "hourly-secret",
      "execution_count": null,
      "outputs": [
        {
          "output_type": "display_data",
          "data": {
            "image/png": "[encoded data removed]",
            "text/plain": [
              "<Figure size 1440x1008 with 12 Axes>"
            ]
          },
          "metadata": {
            "needs_background": "light"
          }
        }
      ]
    },
    {
      "cell_type": "code",
      "metadata": {
        "id": "endangered-calibration"
      },
      "source": [
        "import torch\n",
        "from torch import nn as nn\n",
        "from torch.nn import Conv2d, ConvTranspose2d, Linear, Sequential, Flatten, ReLU, AvgPool2d, MaxPool2d, LeakyReLU"
      ],
      "id": "endangered-calibration",
      "execution_count": null,
      "outputs": []
    },
    {
      "cell_type": "code",
      "metadata": {
        "id": "rubber-lemon"
      },
      "source": [
        "from pdb import set_trace\n",
        "class AE(nn.Module):\n",
        "    def __init__(self):\n",
        "        super(AE,self).__init__()\n",
        "\n",
        "        self.Linear_1 = nn.Sequential(\n",
        "            nn.Flatten(start_dim= 2),\n",
        "            nn.Linear(196, 256),\n",
        "            nn.Linear(256, 512),\n",
        "            nn.Linear(512, 1024),\n",
        "            nn.LeakyReLU(),\n",
        "\n",
        "            nn.Linear(1024, 512),\n",
        "            nn.Linear(512, 512),\n",
        "            nn.LeakyReLU(),\n",
        "\n",
        "            nn.Linear(512, 256),\n",
        "            nn.Linear(256, 392),\n",
        "            nn.Linear(392, 392),\n",
        "            nn.ReLU(),\n",
        "        )\n",
        "        \n",
        "        self.Linear_1_5 = nn.Sequential(\n",
        "            nn.Linear(196, 256),\n",
        "            nn.Linear(256, 512),\n",
        "            nn.LeakyReLU(),\n",
        "            nn.Linear(512, 256),\n",
        "            nn.Linear(256, 256),\n",
        "            nn.LeakyReLU(),\n",
        "\n",
        "            nn.Linear(256, 512),\n",
        "            nn.Linear(512, 512),\n",
        "            nn.LeakyReLU(),\n",
        "\n",
        "            nn.Linear(512, 196),\n",
        "            nn.ReLU(),\n",
        "        )\n",
        "\n",
        "        self.Encoder_1 = nn.Sequential(\n",
        "            nn.Conv2d(2, 1, kernel_size = 3, padding = 1, stride = 1),\n",
        "            nn.Conv2d(1, 4, kernel_size = 5, padding = 1, stride = 1),\n",
        "            nn.LeakyReLU(),\n",
        "            nn.Conv2d(4, 16, kernel_size = 5, padding = 1, stride = 1),\n",
        "            nn.Conv2d(16, 16, kernel_size = 3, padding =1, stride = 1),\n",
        "            nn.LeakyReLU(),\n",
        "\n",
        "            nn.Conv2d(16, 8, kernel_size = 3, padding = 1, stride = 1),\n",
        "            nn.Conv2d(8, 4, kernel_size = 3, padding =1, stride = 1),\n",
        "            nn.Conv2d(4, 2, kernel_size = 3, padding = 1, stride = 1),\n",
        "            nn.ReLU(),\n",
        "        )\n",
        "\n",
        "        self.Encoder_2 = nn.Sequential(\n",
        "            nn.Conv2d(1, 4, kernel_size = 5, padding = 2, stride = 1),\n",
        "            nn.Conv2d(4, 16, kernel_size = 5, padding = 2, stride = 1),\n",
        "            nn.LeakyReLU(),\n",
        "\n",
        "            nn.Conv2d(16, 32, kernel_size = 5, padding = 1, stride = 1),\n",
        "            nn.Conv2d(32, 32, kernel_size = 3, padding = 1, stride = 1),\n",
        "            nn.LeakyReLU(),\n",
        "\n",
        "            nn.Conv2d(32, 64, kernel_size = 7, padding = 1, stride = 1),\n",
        "            nn.Conv2d(64, 64, kernel_size = 3, padding = 1, stride = 1),\n",
        "            nn.LeakyReLU(),\n",
        "\n",
        "            nn.Conv2d(64, 16, kernel_size = 3, padding = 1, stride = 1),\n",
        "            nn.Conv2d(16, 8, kernel_size = 3, padding = 1, stride = 1),\n",
        "            nn.Conv2d(8, 1, kernel_size = 3, padding = 1, stride = 1),\n",
        "            nn.ReLU()\n",
        "\n",
        "        )\n",
        "\n",
        "        \n",
        "        self.Linear_2 = nn.Sequential(\n",
        "            nn.Linear(32, 64),\n",
        "            nn.Linear(64, 128),\n",
        "            nn.LeakyReLU(),\n",
        "            nn.Linear(128, 256),\n",
        "            nn.Linear(256, 256),\n",
        "            nn.LeakyReLU(),\n",
        "\n",
        "            nn.Linear(256, 392),\n",
        "            nn.ReLU(),\n",
        "\n",
        "        )\n",
        "\n",
        "        self.Decoder_1 = nn.Sequential(\n",
        "            nn.ConvTranspose2d(2, 16, kernel_size = 5, padding = 1, stride = 1),\n",
        "            nn.ConvTranspose2d(16, 64, kernel_size = 3, padding= 1, stride = 1),\n",
        "            nn.LeakyReLU(),\n",
        "            nn.ConvTranspose2d(64, 128, kernel_size = 5, padding = 1, stride = 1),\n",
        "            nn.ConvTranspose2d(128, 128, kernel_size = 9, padding = 4, stride = 1),\n",
        "            nn.LeakyReLU(),\n",
        "\n",
        "            nn.ConvTranspose2d(128, 64, kernel_size = 7, padding = 1, stride = 1),\n",
        "            nn.ConvTranspose2d(64, 64, kernel_size = 7, padding = 3, stride = 1),\n",
        "            nn.LeakyReLU(),\n",
        "\n",
        "            nn.ConvTranspose2d(64, 32, kernel_size= 9, padding = 3, stride = 1),\n",
        "            nn.ConvTranspose2d(32, 8, kernel_size = 7, padding = 2, stride = 1),\n",
        "            nn.ConvTranspose2d(8, 2, kernel_size = 5, padding = 1, stride = 1),\n",
        "            nn.ReLU(),\n",
        "        )\n",
        "\n",
        "        self.Decoder_2 = nn.Sequential(\n",
        "            nn.ConvTranspose2d(2, 32, kernel_size = 9, padding = 4, stride = 1),\n",
        "            nn.ConvTranspose2d(32, 128, kernel_size = 3, padding = 1, stride = 1),\n",
        "            nn.LeakyReLU(),\n",
        "            nn.ConvTranspose2d(128, 1024, kernel_size = 7, padding= 3, stride = 1),\n",
        "            nn.ConvTranspose2d(1024, 1024, kernel_size = 5, padding = 2, stride = 1),\n",
        "            nn.LeakyReLU(),\n",
        "\n",
        "            nn.ConvTranspose2d(1024, 256, kernel_size= 3, padding = 1, stride = 1),\n",
        "            nn.ConvTranspose2d(256, 128, kernel_size= 9, padding =4, stride = 1),\n",
        "            nn.LeakyReLU(),\n",
        "            nn.ConvTranspose2d(128, 32, kernel_size = 5, padding = 2, stride = 1),\n",
        "            nn.ConvTranspose2d(32, 32, kernel_size= 3, padding = 1, stride = 1),\n",
        "            nn.LeakyReLU(),\n",
        "            \n",
        "            nn.ConvTranspose2d(32, 8, kernel_size= 3, padding = 1, stride = 1),\n",
        "            nn.ConvTranspose2d(8, 1, kernel_size= 9, padding = 4, stride = 1),\n",
        "            nn.ReLU(),\n",
        "        )\n",
        "\n",
        "        self.Linear_3 = nn.Sequential(\n",
        "            nn.Linear(784, 1024),\n",
        "            nn.Linear(1024, 512),\n",
        "            nn.LeakyReLU(),\n",
        "            nn.Linear(512, 256),\n",
        "            nn.Linear(256, 256),\n",
        "            nn.LeakyReLU(),\n",
        "\n",
        "            nn.Linear(256, 512),\n",
        "            nn.Linear(512, 512),\n",
        "            nn.LeakyReLU(),\n",
        "\n",
        "            nn.Linear(512, 1024),\n",
        "            nn.Linear(1024, 1568),\n",
        "            nn.ReLU(),\n",
        "        )\n",
        "\n",
        "        \n",
        "\n",
        "        \n",
        "        \n",
        "        \n",
        "    def forward(self,x):\n",
        "\n",
        "      #Step 1\n",
        "      output = self.Linear_1[:6](x)\n",
        "      output = self.Linear_1[7](output + self.Linear_1[6](output))\n",
        "      output = self.Linear_1[8:10](output)\n",
        "      output = self.Linear_1[11:](output + self.Linear_1[10](output))\n",
        "\n",
        "      #Step 1.5\n",
        "      output = output.reshape(32, 2, 14, 14)\n",
        "\n",
        "        #Image 1\n",
        "      output_1 = torch.flatten(output[:, :1, :, :], 2)\n",
        "      output_1 = self.Linear_1_5[:4](output_1)\n",
        "      output_1 = self.Linear_1_5[5](output_1 + self.Linear_1_5[4](output_1))\n",
        "      output_1 = self.Linear_1_5[6](output_1)\n",
        "      output_1 = self.Linear_1_5[8:](output_1 + self.Linear_1_5[7](output_1))\n",
        "\n",
        "        #Image 2\n",
        "      output_2 = torch.flatten(output[:, 1:, :, :], 2)\n",
        "      output_2 = self.Linear_1_5[:4](output_2)\n",
        "      output_2 = self.Linear_1_5[5](output_2 + self.Linear_1_5[4](output_2))\n",
        "      output_2 = self.Linear_1_5[6](output_2)\n",
        "      output_2 = self.Linear_1_5[8:](output_2 + self.Linear_1_5[7](output_2))\n",
        "\n",
        "      #Step 2\n",
        "\n",
        "      output_1 = output_1.reshape(32, 1, 14, 14)\n",
        "      output_2 = output_2.reshape(32, 1, 14, 14)\n",
        "\n",
        "      output = torch.cat((output_1, output_2), 1)\n",
        "      \n",
        "      output = self.Encoder_1[:4](output)\n",
        "      output = self.Encoder_1[5:](output + self.Encoder_1[4](output))\n",
        "\n",
        "      #Step 2.5\n",
        "      output_1 = output[:, :1, :, :]\n",
        "      output_2 = output[:, 1:, :, :]\n",
        "\n",
        "\n",
        "        #Image 1\n",
        "      output_1 = self.Encoder_2[:4](output_1)\n",
        "      output_1 = self.Encoder_2[5](output_1 + self.Encoder_2[4](output_1))\n",
        "      output_1 = self.Encoder_2[6](output_1)\n",
        "      output_1 = self.Encoder_2[8:](output_1 + self.Encoder_2[7](output_1))\n",
        "\n",
        "        #Image 2\n",
        "      output_2 = self.Encoder_2[:4](output_2)\n",
        "      output_2 = self.Encoder_2[5](output_2 + self.Encoder_2[4](output_2))\n",
        "      output_2 = self.Encoder_2[6](output_2)\n",
        "      output_2 = self.Encoder_2[8:](output_2 + self.Encoder_2[7](output_2))  \n",
        "\n",
        "      #Step 3\n",
        "      output = torch.cat((output_1, output_2), 1)\n",
        "      output = torch.flatten(output, start_dim=1).reshape(32, 1, 32)\n",
        "\n",
        "      output = self.Linear_2[:4](output)\n",
        "      output = self.Linear_2[5:](output + self.Linear_2[4](output))\n",
        "      \n",
        "      #Step 4\n",
        "      output = output.reshape(32, 2, 14, 14)\n",
        "\n",
        "      output = self.Decoder_1[:4](output)\n",
        "      output = self.Decoder_1[5](output + self.Decoder_1[4](output))\n",
        "      output = self.Decoder_1[6](output)\n",
        "      output = self.Decoder_1[8:](output + self.Decoder_1[7](output))\n",
        "\n",
        "      #Step 4.5\n",
        "      \n",
        "      output = self.Decoder_2[:4](output)\n",
        "      output = self.Decoder_2[5](output + self.Decoder_2[4](output))\n",
        "      output = self.Decoder_2[6:10](output)\n",
        "      output = self.Decoder_2[11:](output + self.Decoder_2[10](output))\n",
        "\n",
        "      output = torch.flatten(output, 2)\n",
        "\n",
        "      #Step 5\n",
        "      output = self.Linear_3[:4](output)\n",
        "      output = self.Linear_3[5](output + self.Linear_3[4](output))\n",
        "      output = self.Linear_3[6](output)\n",
        "      output = self.Linear_3[8:](output + self.Linear_3[7](output))\n",
        "\n",
        "      output = output.reshape(32, 2, 28, 28)\n",
        "\n",
        "      # print(output.shape)\n",
        "\n",
        "                        \n",
        "      return output\n",
        "        \n",
        "        "
      ],
      "id": "rubber-lemon",
      "execution_count": null,
      "outputs": []
    },
    {
      "cell_type": "code",
      "metadata": {
        "colab": {
          "base_uri": "https://localhost:8080/"
        },
        "id": "loving-manual",
        "outputId": "5dd224ac-7c43-4f1c-946f-79d208a091f9"
      },
      "source": [
        "device = torch.device('cuda') if torch.cuda.is_available else torch.device('cpu')\n",
        "AEnet = AE().to(device)\n",
        "optimizer = torch.optim.Adam(AEnet.parameters(), lr=1e-4)\n",
        "criterion = nn.BCEWithLogitsLoss()\n",
        "print(device)"
      ],
      "id": "loving-manual",
      "execution_count": null,
      "outputs": [
        {
          "output_type": "stream",
          "name": "stdout",
          "text": [
            "cuda\n"
          ]
        }
      ]
    },
    {
      "cell_type": "code",
      "metadata": {
        "colab": {
          "base_uri": "https://localhost:8080/",
          "height": 478
        },
        "id": "casual-conjunction",
        "scrolled": true,
        "outputId": "2a629d58-522a-4be8-8b8b-77291f2e472c"
      },
      "source": [
        "fig = plt.figure(figsize = (10, 7))\n",
        "rows = 1\n",
        "columns = 5\n",
        "\n",
        "epochs = 10\n",
        "train_loss = []\n",
        "flag = True\n",
        "for epoch in range(epochs):\n",
        "    running_loss = 0.0\n",
        "    for i, data in enumerate(trainset):\n",
        "        optimizer.zero_grad()\n",
        "        outputs = AEnet(data[0].float().to(device))\n",
        "#         print(outputs.shape)\n",
        "        loss = criterion(outputs.reshape(-1).to(device),torch.stack((data[1][0].float().to(device), data[1][1].float().to(device)), axis=1).reshape(-1))\n",
        "        loss.backward()\n",
        "        optimizer.step()\n",
        "        train_loss.append(loss.item())\n",
        "        running_loss += loss.item()\n",
        "        if i % 100 == 99:\n",
        "            print('[%d, %5d] loss per image: %.6f' %\n",
        "                  (epoch + 1, i + 1, loss.item()/32))\n",
        "#             print(outputs.shape)\n",
        "#             img_1 = outputs[0, 0, :]\n",
        "#             img_2 = outputs[0, 1, :]\n",
        "#             true_1 = torch.flatten(data[1][1][0])\n",
        "#             true_2 = torch.flatten(data[1][0][0])\n",
        "#             loss_1 = criterion(img_1.to(device), true_1.to(device))\n",
        "#             loss_2 = criterion(img_2.to(device), true_2.to(device))\n",
        "#             print(loss_1, loss_2)\n",
        "#             print(img_1.shape, img_2.shape, true_1.shape, true_2.shape)\n",
        "            \n",
        "#             true_1 = data[1][0][0]\n",
        "#             true_2 = data[1][0][1]\n",
        "#             output_1 = outputs[0].reshape((2, 28, 28))\n",
        "#             predic_1 = torch.Tensor.cpu(output_1[0])\n",
        "#             predic_2 = torch.Tensor.cpu(output_1[1])\n",
        "#             print(output_1.shape)\n",
        "#             print(predic_1.shape, predic_2.shape, true_1.shape, true_2.shape)\n",
        "            \n",
        "#             print(data[0][0][0].shape)\n",
        "#             given = data[0][0][0]\n",
        "            \n",
        "#             fig.add_subplot(rows, columns, 1)\n",
        "#             plt.imshow(true_1, cmap = 'gray')\n",
        "#             plt.axis(\"off\")\n",
        "#             plt.title(\"First True\")\n",
        "            \n",
        "#             fig.add_subplot(rows, columns, 2)\n",
        "#             plt.imshow(true_2, cmap = 'gray')\n",
        "#             plt.axis(\"off\")\n",
        "#             plt.title(\"Second True\")\n",
        "            \n",
        "#             fig.add_subplot(rows, columns, 3)\n",
        "#             plt.imshow(given)\n",
        "#             plt.axis(\"off\")\n",
        "#             plt.title(\"Given\")\n",
        "            \n",
        "#             fig.add_subplot(rows, columns, 4)\n",
        "#             plt.imshow(predic_1.detach().numpy())\n",
        "#             plt.axis(\"off\")\n",
        "#             plt.title(\"First Prediction\")\n",
        "            \n",
        "#             fig.add_subplot(rows, columns, 5)\n",
        "#             plt.imshow(predic_2.detach().numpy())\n",
        "#             plt.axis(\"off\")\n",
        "#             plt.title(\"Second Predicition\")\n",
        "\n",
        "#         def closure():\n",
        "#             if torch.is_grad_enabled():\n",
        "#                 optimizer.zero_grad()\n",
        "#             outputs=AEnet(data[0].float().to(device))\n",
        "#             loss = criterion(outputs.reshape(-1).to(device),torch.stack((data[1][0].float().to(device), data[1][1].float().to(device)), axis=0).reshape(-1))\n",
        "#             if loss.requires_grad:\n",
        "#                 loss.backward()\n",
        "#             return loss\n",
        "            \n",
        "print(\"The lowest was: \", min(train_loss)/32)\n",
        "        \n",
        "print('Finished Training')\n",
        "flag = False"
      ],
      "id": "casual-conjunction",
      "execution_count": null,
      "outputs": [
        {
          "output_type": "stream",
          "name": "stdout",
          "text": [
            "[1,   100] loss per image: -144420424044200534736896.000000\n",
            "[1,   200] loss per image: -560256728786550405464064.000000\n",
            "[1,   300] loss per image: -811282832387757463044096.000000\n"
          ]
        },
        {
          "output_type": "error",
          "ename": "KeyboardInterrupt",
          "evalue": "ignored",
          "traceback": [
            "\u001b[0;31m---------------------------------------------------------------------------\u001b[0m",
            "\u001b[0;31mKeyboardInterrupt\u001b[0m                         Traceback (most recent call last)",
            "\u001b[0;32m<ipython-input-86-786acf64ac01>\u001b[0m in \u001b[0;36m<module>\u001b[0;34m()\u001b[0m\n\u001b[1;32m     14\u001b[0m         \u001b[0mloss\u001b[0m \u001b[0;34m=\u001b[0m \u001b[0mcriterion\u001b[0m\u001b[0;34m(\u001b[0m\u001b[0moutputs\u001b[0m\u001b[0;34m.\u001b[0m\u001b[0mreshape\u001b[0m\u001b[0;34m(\u001b[0m\u001b[0;34m-\u001b[0m\u001b[0;36m1\u001b[0m\u001b[0;34m)\u001b[0m\u001b[0;34m.\u001b[0m\u001b[0mto\u001b[0m\u001b[0;34m(\u001b[0m\u001b[0mdevice\u001b[0m\u001b[0;34m)\u001b[0m\u001b[0;34m,\u001b[0m\u001b[0mtorch\u001b[0m\u001b[0;34m.\u001b[0m\u001b[0mstack\u001b[0m\u001b[0;34m(\u001b[0m\u001b[0;34m(\u001b[0m\u001b[0mdata\u001b[0m\u001b[0;34m[\u001b[0m\u001b[0;36m1\u001b[0m\u001b[0;34m]\u001b[0m\u001b[0;34m[\u001b[0m\u001b[0;36m0\u001b[0m\u001b[0;34m]\u001b[0m\u001b[0;34m.\u001b[0m\u001b[0mfloat\u001b[0m\u001b[0;34m(\u001b[0m\u001b[0;34m)\u001b[0m\u001b[0;34m.\u001b[0m\u001b[0mto\u001b[0m\u001b[0;34m(\u001b[0m\u001b[0mdevice\u001b[0m\u001b[0;34m)\u001b[0m\u001b[0;34m,\u001b[0m \u001b[0mdata\u001b[0m\u001b[0;34m[\u001b[0m\u001b[0;36m1\u001b[0m\u001b[0;34m]\u001b[0m\u001b[0;34m[\u001b[0m\u001b[0;36m1\u001b[0m\u001b[0;34m]\u001b[0m\u001b[0;34m.\u001b[0m\u001b[0mfloat\u001b[0m\u001b[0;34m(\u001b[0m\u001b[0;34m)\u001b[0m\u001b[0;34m.\u001b[0m\u001b[0mto\u001b[0m\u001b[0;34m(\u001b[0m\u001b[0mdevice\u001b[0m\u001b[0;34m)\u001b[0m\u001b[0;34m)\u001b[0m\u001b[0;34m,\u001b[0m \u001b[0maxis\u001b[0m\u001b[0;34m=\u001b[0m\u001b[0;36m1\u001b[0m\u001b[0;34m)\u001b[0m\u001b[0;34m.\u001b[0m\u001b[0mreshape\u001b[0m\u001b[0;34m(\u001b[0m\u001b[0;34m-\u001b[0m\u001b[0;36m1\u001b[0m\u001b[0;34m)\u001b[0m\u001b[0;34m)\u001b[0m\u001b[0;34m\u001b[0m\u001b[0;34m\u001b[0m\u001b[0m\n\u001b[1;32m     15\u001b[0m         \u001b[0mloss\u001b[0m\u001b[0;34m.\u001b[0m\u001b[0mbackward\u001b[0m\u001b[0;34m(\u001b[0m\u001b[0;34m)\u001b[0m\u001b[0;34m\u001b[0m\u001b[0;34m\u001b[0m\u001b[0m\n\u001b[0;32m---> 16\u001b[0;31m         \u001b[0moptimizer\u001b[0m\u001b[0;34m.\u001b[0m\u001b[0mstep\u001b[0m\u001b[0;34m(\u001b[0m\u001b[0;34m)\u001b[0m\u001b[0;34m\u001b[0m\u001b[0;34m\u001b[0m\u001b[0m\n\u001b[0m\u001b[1;32m     17\u001b[0m         \u001b[0mtrain_loss\u001b[0m\u001b[0;34m.\u001b[0m\u001b[0mappend\u001b[0m\u001b[0;34m(\u001b[0m\u001b[0mloss\u001b[0m\u001b[0;34m.\u001b[0m\u001b[0mitem\u001b[0m\u001b[0;34m(\u001b[0m\u001b[0;34m)\u001b[0m\u001b[0;34m)\u001b[0m\u001b[0;34m\u001b[0m\u001b[0;34m\u001b[0m\u001b[0m\n\u001b[1;32m     18\u001b[0m         \u001b[0mrunning_loss\u001b[0m \u001b[0;34m+=\u001b[0m \u001b[0mloss\u001b[0m\u001b[0;34m.\u001b[0m\u001b[0mitem\u001b[0m\u001b[0;34m(\u001b[0m\u001b[0;34m)\u001b[0m\u001b[0;34m\u001b[0m\u001b[0;34m\u001b[0m\u001b[0m\n",
            "\u001b[0;32m/usr/local/lib/python3.7/dist-packages/torch/optim/optimizer.py\u001b[0m in \u001b[0;36mwrapper\u001b[0;34m(*args, **kwargs)\u001b[0m\n\u001b[1;32m     86\u001b[0m                 \u001b[0mprofile_name\u001b[0m \u001b[0;34m=\u001b[0m \u001b[0;34m\"Optimizer.step#{}.step\"\u001b[0m\u001b[0;34m.\u001b[0m\u001b[0mformat\u001b[0m\u001b[0;34m(\u001b[0m\u001b[0mobj\u001b[0m\u001b[0;34m.\u001b[0m\u001b[0m__class__\u001b[0m\u001b[0;34m.\u001b[0m\u001b[0m__name__\u001b[0m\u001b[0;34m)\u001b[0m\u001b[0;34m\u001b[0m\u001b[0;34m\u001b[0m\u001b[0m\n\u001b[1;32m     87\u001b[0m                 \u001b[0;32mwith\u001b[0m \u001b[0mtorch\u001b[0m\u001b[0;34m.\u001b[0m\u001b[0mautograd\u001b[0m\u001b[0;34m.\u001b[0m\u001b[0mprofiler\u001b[0m\u001b[0;34m.\u001b[0m\u001b[0mrecord_function\u001b[0m\u001b[0;34m(\u001b[0m\u001b[0mprofile_name\u001b[0m\u001b[0;34m)\u001b[0m\u001b[0;34m:\u001b[0m\u001b[0;34m\u001b[0m\u001b[0;34m\u001b[0m\u001b[0m\n\u001b[0;32m---> 88\u001b[0;31m                     \u001b[0;32mreturn\u001b[0m \u001b[0mfunc\u001b[0m\u001b[0;34m(\u001b[0m\u001b[0;34m*\u001b[0m\u001b[0margs\u001b[0m\u001b[0;34m,\u001b[0m \u001b[0;34m**\u001b[0m\u001b[0mkwargs\u001b[0m\u001b[0;34m)\u001b[0m\u001b[0;34m\u001b[0m\u001b[0;34m\u001b[0m\u001b[0m\n\u001b[0m\u001b[1;32m     89\u001b[0m             \u001b[0;32mreturn\u001b[0m \u001b[0mwrapper\u001b[0m\u001b[0;34m\u001b[0m\u001b[0;34m\u001b[0m\u001b[0m\n\u001b[1;32m     90\u001b[0m \u001b[0;34m\u001b[0m\u001b[0m\n",
            "\u001b[0;32m/usr/local/lib/python3.7/dist-packages/torch/autograd/grad_mode.py\u001b[0m in \u001b[0;36mdecorate_context\u001b[0;34m(*args, **kwargs)\u001b[0m\n\u001b[1;32m     26\u001b[0m         \u001b[0;32mdef\u001b[0m \u001b[0mdecorate_context\u001b[0m\u001b[0;34m(\u001b[0m\u001b[0;34m*\u001b[0m\u001b[0margs\u001b[0m\u001b[0;34m,\u001b[0m \u001b[0;34m**\u001b[0m\u001b[0mkwargs\u001b[0m\u001b[0;34m)\u001b[0m\u001b[0;34m:\u001b[0m\u001b[0;34m\u001b[0m\u001b[0;34m\u001b[0m\u001b[0m\n\u001b[1;32m     27\u001b[0m             \u001b[0;32mwith\u001b[0m \u001b[0mself\u001b[0m\u001b[0;34m.\u001b[0m\u001b[0m__class__\u001b[0m\u001b[0;34m(\u001b[0m\u001b[0;34m)\u001b[0m\u001b[0;34m:\u001b[0m\u001b[0;34m\u001b[0m\u001b[0;34m\u001b[0m\u001b[0m\n\u001b[0;32m---> 28\u001b[0;31m                 \u001b[0;32mreturn\u001b[0m \u001b[0mfunc\u001b[0m\u001b[0;34m(\u001b[0m\u001b[0;34m*\u001b[0m\u001b[0margs\u001b[0m\u001b[0;34m,\u001b[0m \u001b[0;34m**\u001b[0m\u001b[0mkwargs\u001b[0m\u001b[0;34m)\u001b[0m\u001b[0;34m\u001b[0m\u001b[0;34m\u001b[0m\u001b[0m\n\u001b[0m\u001b[1;32m     29\u001b[0m         \u001b[0;32mreturn\u001b[0m \u001b[0mcast\u001b[0m\u001b[0;34m(\u001b[0m\u001b[0mF\u001b[0m\u001b[0;34m,\u001b[0m \u001b[0mdecorate_context\u001b[0m\u001b[0;34m)\u001b[0m\u001b[0;34m\u001b[0m\u001b[0;34m\u001b[0m\u001b[0m\n\u001b[1;32m     30\u001b[0m \u001b[0;34m\u001b[0m\u001b[0m\n",
            "\u001b[0;32m/usr/local/lib/python3.7/dist-packages/torch/optim/adam.py\u001b[0m in \u001b[0;36mstep\u001b[0;34m(self, closure)\u001b[0m\n\u001b[1;32m    116\u001b[0m                    \u001b[0mlr\u001b[0m\u001b[0;34m=\u001b[0m\u001b[0mgroup\u001b[0m\u001b[0;34m[\u001b[0m\u001b[0;34m'lr'\u001b[0m\u001b[0;34m]\u001b[0m\u001b[0;34m,\u001b[0m\u001b[0;34m\u001b[0m\u001b[0;34m\u001b[0m\u001b[0m\n\u001b[1;32m    117\u001b[0m                    \u001b[0mweight_decay\u001b[0m\u001b[0;34m=\u001b[0m\u001b[0mgroup\u001b[0m\u001b[0;34m[\u001b[0m\u001b[0;34m'weight_decay'\u001b[0m\u001b[0;34m]\u001b[0m\u001b[0;34m,\u001b[0m\u001b[0;34m\u001b[0m\u001b[0;34m\u001b[0m\u001b[0m\n\u001b[0;32m--> 118\u001b[0;31m                    eps=group['eps'])\n\u001b[0m\u001b[1;32m    119\u001b[0m         \u001b[0;32mreturn\u001b[0m \u001b[0mloss\u001b[0m\u001b[0;34m\u001b[0m\u001b[0;34m\u001b[0m\u001b[0m\n",
            "\u001b[0;32m/usr/local/lib/python3.7/dist-packages/torch/optim/_functional.py\u001b[0m in \u001b[0;36madam\u001b[0;34m(params, grads, exp_avgs, exp_avg_sqs, max_exp_avg_sqs, state_steps, amsgrad, beta1, beta2, lr, weight_decay, eps)\u001b[0m\n\u001b[1;32m     85\u001b[0m         \u001b[0;31m# Decay the first and second moment running average coefficient\u001b[0m\u001b[0;34m\u001b[0m\u001b[0;34m\u001b[0m\u001b[0;34m\u001b[0m\u001b[0m\n\u001b[1;32m     86\u001b[0m         \u001b[0mexp_avg\u001b[0m\u001b[0;34m.\u001b[0m\u001b[0mmul_\u001b[0m\u001b[0;34m(\u001b[0m\u001b[0mbeta1\u001b[0m\u001b[0;34m)\u001b[0m\u001b[0;34m.\u001b[0m\u001b[0madd_\u001b[0m\u001b[0;34m(\u001b[0m\u001b[0mgrad\u001b[0m\u001b[0;34m,\u001b[0m \u001b[0malpha\u001b[0m\u001b[0;34m=\u001b[0m\u001b[0;36m1\u001b[0m \u001b[0;34m-\u001b[0m \u001b[0mbeta1\u001b[0m\u001b[0;34m)\u001b[0m\u001b[0;34m\u001b[0m\u001b[0;34m\u001b[0m\u001b[0m\n\u001b[0;32m---> 87\u001b[0;31m         \u001b[0mexp_avg_sq\u001b[0m\u001b[0;34m.\u001b[0m\u001b[0mmul_\u001b[0m\u001b[0;34m(\u001b[0m\u001b[0mbeta2\u001b[0m\u001b[0;34m)\u001b[0m\u001b[0;34m.\u001b[0m\u001b[0maddcmul_\u001b[0m\u001b[0;34m(\u001b[0m\u001b[0mgrad\u001b[0m\u001b[0;34m,\u001b[0m \u001b[0mgrad\u001b[0m\u001b[0;34m,\u001b[0m \u001b[0mvalue\u001b[0m\u001b[0;34m=\u001b[0m\u001b[0;36m1\u001b[0m \u001b[0;34m-\u001b[0m \u001b[0mbeta2\u001b[0m\u001b[0;34m)\u001b[0m\u001b[0;34m\u001b[0m\u001b[0;34m\u001b[0m\u001b[0m\n\u001b[0m\u001b[1;32m     88\u001b[0m         \u001b[0;32mif\u001b[0m \u001b[0mamsgrad\u001b[0m\u001b[0;34m:\u001b[0m\u001b[0;34m\u001b[0m\u001b[0;34m\u001b[0m\u001b[0m\n\u001b[1;32m     89\u001b[0m             \u001b[0;31m# Maintains the maximum of all 2nd moment running avg. till now\u001b[0m\u001b[0;34m\u001b[0m\u001b[0;34m\u001b[0m\u001b[0;34m\u001b[0m\u001b[0m\n",
            "\u001b[0;31mKeyboardInterrupt\u001b[0m: "
          ]
        },
        {
          "output_type": "display_data",
          "data": {
            "text/plain": [
              "<Figure size 720x504 with 0 Axes>"
            ]
          },
          "metadata": {}
        }
      ]
    },
    {
      "cell_type": "code",
      "metadata": {
        "id": "addressed-cursor",
        "colab": {
          "base_uri": "https://localhost:8080/",
          "height": 299
        },
        "outputId": "4c03e23a-03f4-4340-f758-cedbf4eb86d2"
      },
      "source": [
        "print(outputs[0].shape)\n",
        "plt.imshow(outputs[0][1,:,:].reshape(28,28).cpu().detach().numpy())"
      ],
      "id": "addressed-cursor",
      "execution_count": null,
      "outputs": [
        {
          "output_type": "stream",
          "name": "stdout",
          "text": [
            "torch.Size([2, 28, 28])\n"
          ]
        },
        {
          "output_type": "execute_result",
          "data": {
            "text/plain": [
              "<matplotlib.image.AxesImage at 0x7f380ffd5790>"
            ]
          },
          "metadata": {},
          "execution_count": 87
        },
        {
          "output_type": "display_data",
          "data": {
            "image/png": "[encoded data removed]",
            "text/plain": [
              "<Figure size 432x288 with 1 Axes>"
            ]
          },
          "metadata": {
            "needs_background": "light"
          }
        }
      ]
    },
    {
      "cell_type": "code",
      "metadata": {
        "id": "objective-excess",
        "colab": {
          "base_uri": "https://localhost:8080/",
          "height": 282
        },
        "outputId": "1cd15018-6a08-4533-c6a7-6978dd86acbd"
      },
      "source": [
        "plt.imshow(data[1][1][1].squeeze(0))\n"
      ],
      "id": "objective-excess",
      "execution_count": null,
      "outputs": [
        {
          "output_type": "execute_result",
          "data": {
            "text/plain": [
              "<matplotlib.image.AxesImage at 0x7f3820086a10>"
            ]
          },
          "metadata": {},
          "execution_count": 88
        },
        {
          "output_type": "display_data",
          "data": {
            "image/png": "[encoded data removed]",
            "text/plain": [
              "<Figure size 432x288 with 1 Axes>"
            ]
          },
          "metadata": {
            "needs_background": "light"
          }
        }
      ]
    },
    {
      "cell_type": "code",
      "metadata": {
        "colab": {
          "base_uri": "https://localhost:8080/",
          "height": 282
        },
        "id": "odpPA8xszFge",
        "outputId": "a5f499fc-0207-45c6-8e54-aaf62a878940"
      },
      "source": [
        "plt.imshow(data[1][0][1].squeeze(0))"
      ],
      "id": "odpPA8xszFge",
      "execution_count": null,
      "outputs": [
        {
          "output_type": "execute_result",
          "data": {
            "text/plain": [
              "<matplotlib.image.AxesImage at 0x7f380fe82750>"
            ]
          },
          "metadata": {},
          "execution_count": 89
        },
        {
          "output_type": "display_data",
          "data": {
            "image/png": "[encoded data removed]",
            "text/plain": [
              "<Figure size 432x288 with 1 Axes>"
            ]
          },
          "metadata": {
            "needs_background": "light"
          }
        }
      ]
    },
    {
      "cell_type": "code",
      "metadata": {
        "id": "MExHkKc6zbnn"
      },
      "source": [
        ""
      ],
      "id": "MExHkKc6zbnn",
      "execution_count": null,
      "outputs": []
    }
  ]
}