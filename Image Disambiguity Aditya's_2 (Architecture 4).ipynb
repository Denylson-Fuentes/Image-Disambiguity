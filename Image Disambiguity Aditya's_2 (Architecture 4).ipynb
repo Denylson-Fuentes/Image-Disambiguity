{
 "cells": [
  {
   "cell_type": "code",
   "execution_count": 1,
   "id": "described-toddler",
   "metadata": {
    "gradient": {
     "editing": false
    }
   },
   "outputs": [],
   "source": [
    "import torch as torch\n",
    "import torchvision as tv\n",
    "from torchvision import datasets\n",
    "from torchvision import transforms\n",
    "import matplotlib.pyplot as plt\n",
    "import matplotlib.image as image\n",
    "import cv2 as cv\n",
    "from PIL import Image\n",
    "import numpy as np\n",
    "from torchvision.datasets.vision import VisionDataset\n",
    "from typing import Any, Callable, Dict, List, Optional, Tuple\n",
    "import os\n",
    "import os.path\n",
    "from torch import nn\n",
    "from torchvision.datasets.mnist import read_image_file, read_label_file\n",
    "from torchvision.datasets.utils import download_and_extract_archive, extract_archive, verify_str_arg, check_integrity"
   ]
  },
  {
   "cell_type": "code",
   "execution_count": 2,
   "id": "frozen-freeze",
   "metadata": {
    "gradient": {
     "editing": false
    }
   },
   "outputs": [],
   "source": [
    "class MNISTsuperimposed(VisionDataset):\n",
    "    \"\"\"`MNIST <http://yann.lecun.com/exdb/mnist/>`_ Dataset.\n",
    "\n",
    "    Args:\n",
    "        root (string): Root directory of dataset where ``MNIST/processed/training.pt``\n",
    "            and  ``MNIST/processed/test.pt`` exist.\n",
    "        train (bool, optional): If True, creates dataset from ``training.pt``,\n",
    "            otherwise from ``test.pt``.\n",
    "        download (bool, optional): If true, downloads the dataset from the internet and\n",
    "            puts it in root directory. If dataset is already downloaded, it is not\n",
    "            downloaded again.\n",
    "        transform (callable, optional): A function/transform that  takes in an PIL image\n",
    "            and returns a transformed version. E.g, ``transforms.RandomCrop``\n",
    "        target_transform (callable, optional): A function/transform that takes in the\n",
    "            target and transforms it.\n",
    "    \"\"\"\n",
    "\n",
    "    mirrors = [\n",
    "        'http://yann.lecun.com/exdb/mnist/',\n",
    "        'https://ossci-datasets.s3.amazonaws.com/mnist/',\n",
    "    ]\n",
    "\n",
    "    resources = [\n",
    "        (\"train-images-idx3-ubyte.gz\", \"f68b3c2dcbeaaa9fbdd348bbdeb94873\"),\n",
    "        (\"train-labels-idx1-ubyte.gz\", \"d53e105ee54ea40749a09fcbcd1e9432\"),\n",
    "        (\"t10k-images-idx3-ubyte.gz\", \"9fb629c4189551a2d022fa330f9573f3\"),\n",
    "        (\"t10k-labels-idx1-ubyte.gz\", \"ec29112dd5afa0611ce80d1b7f02629c\")\n",
    "    ]\n",
    "\n",
    "    training_file = 'training.pt'\n",
    "    test_file = 'test.pt'\n",
    "    classes = ['0 - zero', '1 - one', '2 - two', '3 - three', '4 - four',\n",
    "               '5 - five', '6 - six', '7 - seven', '8 - eight', '9 - nine']\n",
    "\n",
    "    @property\n",
    "    def train_labels(self):\n",
    "        warnings.warn(\"train_labels has been renamed targets\")\n",
    "        return self.targets\n",
    "\n",
    "    @property\n",
    "    def test_labels(self):\n",
    "        warnings.warn(\"test_labels has been renamed targets\")\n",
    "        return self.targets\n",
    "\n",
    "    @property\n",
    "    def train_data(self):\n",
    "        warnings.warn(\"train_data has been renamed data\")\n",
    "        return self.data\n",
    "\n",
    "    @property\n",
    "    def test_data(self):\n",
    "        warnings.warn(\"test_data has been renamed data\")\n",
    "        return self.data\n",
    "\n",
    "    def __init__(\n",
    "            self,\n",
    "            root,\n",
    "            train= True,\n",
    "            transform = None,\n",
    "            target_transform = None,\n",
    "            download = False,\n",
    "    ):\n",
    "        super(MNISTsuperimposed, self).__init__(root, transform=transform,\n",
    "                                    target_transform=target_transform)\n",
    "        self.train = train  # training set or test set\n",
    "\n",
    "        if self._check_legacy_exist():\n",
    "            self.data, self.targets = self._load_legacy_data()\n",
    "\n",
    "        if download:\n",
    "            self.download()\n",
    "\n",
    "        if not self._check_exists():\n",
    "            raise RuntimeError('Dataset not found.' +\n",
    "                               ' You can use download=True to download it')\n",
    "\n",
    "        self.data, self.targets = self._load_data()\n",
    "\n",
    "    def _check_legacy_exist(self):\n",
    "        processed_folder_exists = os.path.exists(self.processed_folder)\n",
    "        if not processed_folder_exists:\n",
    "            return False\n",
    "\n",
    "        return all(\n",
    "            check_integrity(os.path.join(self.processed_folder, file)) for file in (self.training_file, self.test_file)\n",
    "        )\n",
    "\n",
    "    def _load_legacy_data(self):\n",
    "        # This is for BC only. We no longer cache the data in a custom binary, but simply read from the raw data\n",
    "        # directly.\n",
    "        data_file = self.training_file if self.train else self.test_file\n",
    "        return torch.load(os.path.join(self.processed_folder, data_file))\n",
    "\n",
    "    def _load_data(self):\n",
    "        image_file = f\"{'train' if self.train else 't10k'}-images-idx3-ubyte\"\n",
    "        data = read_image_file(os.path.join(self.raw_folder, image_file))\n",
    "        #Technically, we do not even need the labels for now\n",
    "        # We just need the clean images of both types\n",
    "        randata = data[torch.randperm(data.shape[0]),:,:]\n",
    "        targets = (data, randata)\n",
    "        \n",
    "        \n",
    "        # Now do the ambiguation here\n",
    "        data = data + randata\n",
    "        return data, targets\n",
    "\n",
    "    def __getitem__(self, index):\n",
    "        \"\"\"\n",
    "        Args:\n",
    "            index (int): Index\n",
    "\n",
    "        Returns:\n",
    "            tuple: (image, target) where target is index of the target class.\n",
    "        \"\"\"\n",
    "        img, target = self.data[index], (self.targets[0][index], self.targets[1][index])\n",
    "        # doing this so that it is consistent with all other datasets\n",
    "        # to return a PIL Imagedata[torch.randperm(data.shape[0]),:,:]\n",
    "        img = Image.fromarray(img.numpy(), mode='L')\n",
    "\n",
    "        if self.transform is not None:\n",
    "            img = self.transform(img)\n",
    "\n",
    "        if self.target_transform is not None:\n",
    "            target = self.target_transform(target)\n",
    "            \n",
    "\n",
    "        return img, target\n",
    "\n",
    "    def __len__(self):\n",
    "        return len(self.data)\n",
    "\n",
    "    @property\n",
    "    def raw_folder(self):\n",
    "        return os.path.join(self.root, self.__class__.__name__, 'raw')\n",
    "\n",
    "    @property\n",
    "    def processed_folder(self) -> str:\n",
    "        return os.path.join(self.root, self.__class__.__name__, 'processed')\n",
    "\n",
    "    @property\n",
    "    def class_to_idx(self):\n",
    "        return {_class: i for i, _class in enumerate(self.classes)}\n",
    "\n",
    "    def _check_exists(self):\n",
    "        return all(\n",
    "            check_integrity(os.path.join(self.raw_folder, os.path.splitext(os.path.basename(url))[0]))\n",
    "            for url, _ in self.resources\n",
    "        )\n",
    "\n",
    "    def download(self):\n",
    "        \"\"\"Download the MNIST data if it doesn't exist already.\"\"\"\n",
    "\n",
    "        if self._check_exists():\n",
    "            return\n",
    "\n",
    "        os.makedirs(self.raw_folder, exist_ok=True)\n",
    "\n",
    "        # download files\n",
    "        for filename, md5 in self.resources:\n",
    "            for mirror in self.mirrors:\n",
    "                url = \"{}{}\".format(mirror, filename)\n",
    "                try:\n",
    "                    print(\"Downloading {}\".format(url))\n",
    "                    download_and_extract_archive(\n",
    "                        url, download_root=self.raw_folder,\n",
    "                        filename=filename,\n",
    "                        md5=md5\n",
    "                    )\n",
    "                except URLError as error:\n",
    "                    print(\n",
    "                        \"Failed to download (trying next):\\n{}\".format(error)\n",
    "                    )\n",
    "                    continue\n",
    "                finally:\n",
    "                    print()\n",
    "                break\n",
    "            else:\n",
    "                raise RuntimeError(\"Error downloading {}\".format(filename))\n",
    "\n",
    "    def extra_repr(self) -> str:\n",
    "        return \"Split: {}\".format(\"Train\" if self.train is True else \"Test\")"
   ]
  },
  {
   "cell_type": "code",
   "execution_count": 3,
   "id": "tribal-barcelona",
   "metadata": {
    "gradient": {
     "editing": false
    }
   },
   "outputs": [],
   "source": [
    "class Downsample(object):\n",
    "    def __init__(self, size=[1,196]):\n",
    "        self.size=size\n",
    "\n",
    "    def __call__(self, tensor):\n",
    "        img = np.squeeze(tensor)\n",
    "        m = torch.nn.AvgPool2d(2, stride=2)\n",
    "        return m(img.unsqueeze(0))\n",
    "\n",
    "    def __repr__(self):\n",
    "        return self.__class__.__name__+'({})'.format(self.size)"
   ]
  },
  {
   "cell_type": "code",
   "execution_count": 4,
   "id": "promotional-lithuania",
   "metadata": {
    "gradient": {
     "editing": false
    }
   },
   "outputs": [
    {
     "name": "stderr",
     "output_type": "stream",
     "text": [
      "/opt/conda/lib/python3.8/site-packages/torchvision/datasets/mnist.py:480: UserWarning: The given NumPy array is not writeable, and PyTorch does not support non-writeable tensors. This means you can write to the underlying (supposedly non-writeable) NumPy array using the tensor. You may want to copy the array to protect its data or make it writeable before converting it to a tensor. This type of warning will be suppressed for the rest of this program. (Triggered internally at  ../torch/csrc/utils/tensor_numpy.cpp:137.)\n",
      "  return torch.from_numpy(parsed.astype(m[2], copy=False)).view(*s)\n"
     ]
    }
   ],
   "source": [
    "transform = transforms.Compose(\n",
    "    [transforms.Grayscale(),\n",
    "     transforms.ToTensor(),\n",
    "     Downsample()\n",
    "     ])\n",
    "mnist_superimposed = MNISTsuperimposed(\"./MNIST data/train\", train = True, download = True, transform = transform)"
   ]
  },
  {
   "cell_type": "code",
   "execution_count": 5,
   "id": "social-entrance",
   "metadata": {
    "gradient": {
     "editing": false
    }
   },
   "outputs": [],
   "source": [
    "from torch.utils.data import DataLoader\n",
    "trainset = DataLoader(mnist_superimposed, batch_size=32, shuffle = False)"
   ]
  },
  {
   "cell_type": "code",
   "execution_count": 6,
   "id": "neither-premium",
   "metadata": {
    "gradient": {
     "editing": false
    }
   },
   "outputs": [],
   "source": [
    "def show_images(dataset, training = True):\n",
    "    \n",
    "    fig = plt.figure(figsize = (20, 14))\n",
    "    rows = 3\n",
    "    columns = 4\n",
    "    j=0\n",
    "    for i in range(1,columns*rows+1):\n",
    "        if i >=1 and i< 5:\n",
    "            fig.add_subplot(rows, columns, i)\n",
    "\n",
    "            plt.imshow(dataset[i][0].squeeze(0))\n",
    "        if i >=5 and i < 9:\n",
    "            fig.add_subplot(rows, columns, i)\n",
    "            plt.imshow(dataset[i-4][1][0])\n",
    "        if i >= 9 and i<13:\n",
    "            fig.add_subplot(rows, columns, i)\n",
    "            plt.imshow(dataset[i-8][1][1])"
   ]
  },
  {
   "cell_type": "code",
   "execution_count": 7,
   "id": "printable-spirit",
   "metadata": {
    "gradient": {
     "editing": false
    }
   },
   "outputs": [
    {
     "data": {
      "image/png": "[encoded data removed]",
      "text/plain": [
       "<Figure size 1440x1008 with 12 Axes>"
      ]
     },
     "metadata": {
      "needs_background": "light"
     },
     "output_type": "display_data"
    }
   ],
   "source": [
    "show_images(mnist_superimposed)"
   ]
  },
  {
   "cell_type": "code",
   "execution_count": 8,
   "id": "public-cartoon",
   "metadata": {
    "gradient": {
     "editing": false
    }
   },
   "outputs": [],
   "source": [
    "import torch\n",
    "from torch import nn as nn\n",
    "from torch.nn import Conv2d, ConvTranspose2d, Linear, Sequential, Flatten, ReLU"
   ]
  },
  {
   "cell_type": "code",
   "execution_count": 9,
   "id": "altered-stomach",
   "metadata": {
    "gradient": {}
   },
   "outputs": [],
   "source": [
    "from pdb import set_trace\n",
    "class AE(nn.Module):\n",
    "    def __init__(self):\n",
    "        super(AE,self).__init__()\n",
    "        \n",
    "        self.Linear = nn.Sequential(\n",
    "            nn.Flatten(start_dim = 2),\n",
    "            nn.Linear(196, 256),\n",
    "            nn.Linear(256, 512),\n",
    "            nn.Linear(512, 512),\n",
    "            nn.Linear(512, 1024),\n",
    "            nn.Linear(1024, 2048),\n",
    "            nn.Linear(2048, 2048),\n",
    "            nn.Linear(2048, 1568),\n",
    "            nn.Linear(1568, 1568),\n",
    "        )\n",
    "            \n",
    "        self.Encoder = nn.Sequential(\n",
    "            nn.Conv2d(1, 2, kernel_size = 3, padding = 1, stride = 1),\n",
    "            nn.Conv2d(2,8, kernel_size = 9, padding = 3, stride = 1),\n",
    "            nn.Conv2d(8, 64, kernel_size = 6, padding = 1, stride = 2),\n",
    "            nn.AvgPool2d(kernel_size = 3, padding = 1, stride = 1),\n",
    "            nn.Conv2d(64, 8, kernel_size = 4, padding = 1, stride = 1),\n",
    "            nn.Conv2d(8, 2, kernel_size = 5, padding = 1, stride = 1),\n",
    "            nn.AvgPool2d(kernel_size = 4, padding = 1, stride = 1),\n",
    "        )\n",
    "\n",
    "        self.Decoder = nn.Sequential(\n",
    "            nn.ConvTranspose2d(2,8,kernel_size=6, padding=2, stride=2),\n",
    "            nn.ConvTranspose2d(8,16,kernel_size=3, padding=1, stride=1),\n",
    "            nn.ConvTranspose2d(16,64,kernel_size=4, padding=1, stride=1),\n",
    "            nn.AvgPool2d(kernel_size = 3, padding =1, stride = 1),\n",
    "            nn.ConvTranspose2d(64,128,kernel_size=5, padding=1, stride=1),\n",
    "            nn.ConvTranspose2d(128,128,kernel_size=5, padding=1, stride=1),\n",
    "            nn.AvgPool2d(kernel_size = 3, padding = 1, stride= 1),\n",
    "            nn.ConvTranspose2d(128,8,kernel_size=5, padding=1, stride=1),\n",
    "            nn.ConvTranspose2d(8,8,kernel_size=4, padding=1, stride=1),\n",
    "            nn.ConvTranspose2d(8,1,kernel_size=5,  stride=1),\n",
    "        )\n",
    "        \n",
    "        \n",
    "    def forward(self,x):\n",
    "        \n",
    "#         print(x.shape)\n",
    "        output = self.Linear(x)\n",
    "#         print(output.shape)\n",
    "        \n",
    "        output = output.reshape(32, 2, 28, 28)\n",
    "        \n",
    "        output_1 = output[:, 0, :, :]\n",
    "        output_2 = output[:, 1, :, :]\n",
    "        \n",
    "        output_1 = output_1.reshape(32, 1, 28, 28)\n",
    "        output_2 = output_2.reshape(32, 1, 28, 28)\n",
    "        \n",
    "        output_1 = self.Encoder(output_1)\n",
    "        output_2 = self.Encoder(output_2)\n",
    "        \n",
    "#         print(output_1.shape, output_2.shape)\n",
    "        \n",
    "        output_1 = self.Decoder(output_1)\n",
    "        output_2 = self.Decoder(output_2)\n",
    "        \n",
    "        output = torch.cat((output_1, output_2), 1)\n",
    "        \n",
    "#         print(output.shape)\n",
    "        \n",
    "\n",
    "\n",
    "        return output"
   ]
  },
  {
   "cell_type": "code",
   "execution_count": 13,
   "id": "selected-portland",
   "metadata": {
    "gradient": {}
   },
   "outputs": [
    {
     "name": "stdout",
     "output_type": "stream",
     "text": [
      "cuda\n"
     ]
    }
   ],
   "source": [
    "device = torch.device('cuda') if torch.cuda.is_available else torch.device('cpu')\n",
    "AEnet = AE()\n",
    "optimizer = torch.optim.Adam(AEnet.parameters(), lr=1e-3)\n",
    "criterion = nn.MSELoss()\n",
    "print(device)"
   ]
  },
  {
   "cell_type": "code",
   "execution_count": null,
   "id": "pregnant-italy",
   "metadata": {
    "gradient": {},
    "scrolled": true
   },
   "outputs": [
    {
     "name": "stdout",
     "output_type": "stream",
     "text": [
      "[1,   100] loss per image: 128.035553\n",
      "[1,   200] loss per image: 132.656982\n"
     ]
    }
   ],
   "source": [
    "fig = plt.figure(figsize = (10, 7))\n",
    "rows = 1\n",
    "columns = 5\n",
    "\n",
    "epochs = 10\n",
    "train_loss = []\n",
    "flag = True\n",
    "for epoch in range(epochs):\n",
    "    running_loss = 0.0\n",
    "    for i, data in enumerate(trainset):\n",
    "        optimizer.zero_grad()\n",
    "        outputs = AEnet(data[0].float())\n",
    "#         print(outputs.shape)\n",
    "        loss = criterion(outputs.reshape(-1),torch.stack((data[1][0].float(), data[1][1].float()), axis=1).reshape(-1))\n",
    "        loss.backward()\n",
    "        optimizer.step()\n",
    "        train_loss.append(loss.item())\n",
    "        running_loss += loss.item()\n",
    "        if i % 100 == 99:\n",
    "            print('[%d, %5d] loss per image: %.6f' %\n",
    "                  (epoch + 1, i + 1, loss.item()/32))\n",
    "#             print(outputs.shape)\n",
    "#             img_1 = outputs[0, 0, :]\n",
    "#             img_2 = outputs[0, 1, :]\n",
    "#             true_1 = torch.flatten(data[1][1][0])\n",
    "#             true_2 = torch.flatten(data[1][0][0])\n",
    "#             loss_1 = criterion(img_1.to(device), true_1.to(device))\n",
    "#             loss_2 = criterion(img_2.to(device), true_2.to(device))\n",
    "#             print(loss_1, loss_2)\n",
    "#             print(img_1.shape, img_2.shape, true_1.shape, true_2.shape)\n",
    "            \n",
    "#             true_1 = data[1][0][0]\n",
    "#             true_2 = data[1][0][1]\n",
    "#             output_1 = outputs[0].reshape((2, 28, 28))\n",
    "#             predic_1 = torch.Tensor.cpu(output_1[0])\n",
    "#             predic_2 = torch.Tensor.cpu(output_1[1])\n",
    "#             print(output_1.shape)\n",
    "#             print(predic_1.shape, predic_2.shape, true_1.shape, true_2.shape)\n",
    "            \n",
    "#             print(data[0][0][0].shape)\n",
    "#             given = data[0][0][0]\n",
    "            \n",
    "#             fig.add_subplot(rows, columns, 1)\n",
    "#             plt.imshow(true_1, cmap = 'gray')\n",
    "#             plt.axis(\"off\")\n",
    "#             plt.title(\"First True\")\n",
    "            \n",
    "#             fig.add_subplot(rows, columns, 2)\n",
    "#             plt.imshow(true_2, cmap = 'gray')\n",
    "#             plt.axis(\"off\")\n",
    "#             plt.title(\"Second True\")\n",
    "            \n",
    "#             fig.add_subplot(rows, columns, 3)\n",
    "#             plt.imshow(given)\n",
    "#             plt.axis(\"off\")\n",
    "#             plt.title(\"Given\")\n",
    "            \n",
    "#             fig.add_subplot(rows, columns, 4)\n",
    "#             plt.imshow(predic_1.detach().numpy())\n",
    "#             plt.axis(\"off\")\n",
    "#             plt.title(\"First Prediction\")\n",
    "            \n",
    "#             fig.add_subplot(rows, columns, 5)\n",
    "#             plt.imshow(predic_2.detach().numpy())\n",
    "#             plt.axis(\"off\")\n",
    "#             plt.title(\"Second Predicition\")\n",
    "\n",
    "#         def closure():\n",
    "#             if torch.is_grad_enabled():\n",
    "#                 optimizer.zero_grad()\n",
    "#             outputs=AEnet(data[0].float().to(device))\n",
    "#             loss = criterion(outputs.reshape(-1).to(device),torch.stack((data[1][0].float().to(device), data[1][1].float().to(device)), axis=0).reshape(-1))\n",
    "#             if loss.requires_grad:\n",
    "#                 loss.backward()\n",
    "#             return loss\n",
    "            \n",
    "print(\"The lowest was: \", min(train_loss)/32)\n",
    "        \n",
    "print('Finished Training')\n",
    "flag = False"
   ]
  },
  {
   "cell_type": "markdown",
   "id": "geological-slope",
   "metadata": {
    "gradient": {}
   },
   "source": [
    "# Scratch Space"
   ]
  },
  {
   "cell_type": "code",
   "execution_count": null,
   "id": "julian-papua",
   "metadata": {
    "gradient": {}
   },
   "outputs": [],
   "source": [
    "#         output = self.Encoder(x)\n",
    "        \n",
    "#         output = self.Decoder(output) # output_shape = (32,1,14, 14)\n",
    "        \n",
    "# #         print(torch.flatten(output,2).shape)\n",
    "#         #Generate two images\n",
    "        \n",
    "# #         print(output.shape)\n",
    "        \n",
    "#         output = self.upsample(output) # output_shape = (32,1 512)\n",
    "        \n",
    "# #         print(output.shape)\n",
    "\n",
    "#         # Now Split images\n",
    "#         output = output.reshape((32,2, 28, 28))\n",
    "#         output_1 = output[:, 0, :, :]\n",
    "#         output_2 = output[:, 1, :, :]\n",
    "        \n",
    "#         output_1 = output_1.reshape(32, 1, 28, 28)\n",
    "#         output_2 = output_2.reshape(32, 1, 28, 28)\n",
    "# #         print(output_1.shape, output_2.shape)\n",
    "        \n",
    "#         output_1 = self.Decoder_2(output_1)\n",
    "#         output_2 = self.Decoder_2(output_2)\n",
    "#         output = torch.cat((output_1, output_2), 1)\n",
    "# #         print(output.shape)\n",
    "# #         print(output_1.shape, output_2.shape)\n",
    "        \n",
    "# #         output = self.upsample[1](self.upsample[0](torch.flatten(output, 2))+torch.flatten(output, 2))\n",
    "# #         output = self.upsample[2](output)\n",
    "# #         output = self.upsample[4](self.upsample[3](output) + output)\n",
    "# #         output = self.upsample[5](output)\n",
    "# #         output = self.upsample[7](self.upsample[6](output) + output)\n",
    "# #         output = self.upsample[8](output)\n",
    "# #         output = self.upsample[9](self.upsample[10](output) + output)\n",
    "# #         output = self.upsample[11](output)\n",
    "# #         output = self.upsample[13](self.upsample[12](output) + output)\n",
    "# #         output = self.upsample[14:](output)"
   ]
  },
  {
   "cell_type": "code",
   "execution_count": null,
   "id": "gothic-tennis",
   "metadata": {},
   "outputs": [],
   "source": []
  },
  {
   "cell_type": "code",
   "execution_count": null,
   "id": "selective-gasoline",
   "metadata": {},
   "outputs": [],
   "source": []
  }
 ],
 "metadata": {
  "kernelspec": {
   "display_name": "Python 3",
   "language": "python",
   "name": "python3"
  },
  "language_info": {
   "codemirror_mode": {
    "name": "ipython",
    "version": 3
   },
   "file_extension": ".py",
   "mimetype": "text/x-python",
   "name": "python",
   "nbconvert_exporter": "python",
   "pygments_lexer": "ipython3",
   "version": "3.8.3"
  }
 },
 "nbformat": 4,
 "nbformat_minor": 5
}
