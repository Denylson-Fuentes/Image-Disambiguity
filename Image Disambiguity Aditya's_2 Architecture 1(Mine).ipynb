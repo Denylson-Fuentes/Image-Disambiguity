{
 "cells": [
  {
   "cell_type": "code",
   "execution_count": null,
   "id": "nominated-giving",
   "metadata": {
    "gradient": {
     "editing": false
    }
   },
   "outputs": [],
   "source": [
    "import torch as torch\n",
    "import torchvision as tv\n",
    "import torch.nn.functional as F\n",
    "from torchvision import datasets\n",
    "from torchvision import transforms\n",
    "import matplotlib.pyplot as plt\n",
    "import matplotlib.image as image\n",
    "import cv2 as cv\n",
    "from PIL import Image\n",
    "import numpy as np\n",
    "from torchvision.datasets.vision import VisionDataset\n",
    "from typing import Any, Callable, Dict, List, Optional, Tuple\n",
    "import os\n",
    "import os.path\n",
    "from torch import nn\n",
    "from torchvision.datasets.mnist import read_image_file, read_label_file\n",
    "from torchvision.datasets.utils import download_and_extract_archive, extract_archive, verify_str_arg, check_integrity"
   ]
  },
  {
   "cell_type": "code",
   "execution_count": null,
   "id": "bored-owner",
   "metadata": {
    "gradient": {
     "editing": false
    }
   },
   "outputs": [],
   "source": [
    "class MNISTsuperimposed(VisionDataset):\n",
    "    \"\"\"`MNIST <http://yann.lecun.com/exdb/mnist/>`_ Dataset.\n",
    "\n",
    "    Args:\n",
    "        root (string): Root directory of dataset where ``MNIST/processed/training.pt``\n",
    "            and  ``MNIST/processed/test.pt`` exist.\n",
    "        train (bool, optional): If True, creates dataset from ``training.pt``,\n",
    "            otherwise from ``test.pt``.\n",
    "        download (bool, optional): If true, downloads the dataset from the internet and\n",
    "            puts it in root directory. If dataset is already downloaded, it is not\n",
    "            downloaded again.\n",
    "        transform (callable, optional): A function/transform that  takes in an PIL image\n",
    "            and returns a transformed version. E.g, ``transforms.RandomCrop``\n",
    "        target_transform (callable, optional): A function/transform that takes in the\n",
    "            target and transforms it.\n",
    "    \"\"\"\n",
    "\n",
    "    mirrors = [\n",
    "        'http://yann.lecun.com/exdb/mnist/',\n",
    "        'https://ossci-datasets.s3.amazonaws.com/mnist/',\n",
    "    ]\n",
    "\n",
    "    resources = [\n",
    "        (\"train-images-idx3-ubyte.gz\", \"f68b3c2dcbeaaa9fbdd348bbdeb94873\"),\n",
    "        (\"train-labels-idx1-ubyte.gz\", \"d53e105ee54ea40749a09fcbcd1e9432\"),\n",
    "        (\"t10k-images-idx3-ubyte.gz\", \"9fb629c4189551a2d022fa330f9573f3\"),\n",
    "        (\"t10k-labels-idx1-ubyte.gz\", \"ec29112dd5afa0611ce80d1b7f02629c\")\n",
    "    ]\n",
    "\n",
    "    training_file = 'training.pt'\n",
    "    test_file = 'test.pt'\n",
    "    classes = ['0 - zero', '1 - one', '2 - two', '3 - three', '4 - four',\n",
    "               '5 - five', '6 - six', '7 - seven', '8 - eight', '9 - nine']\n",
    "\n",
    "    @property\n",
    "    def train_labels(self):\n",
    "        warnings.warn(\"train_labels has been renamed targets\")\n",
    "        return self.targets\n",
    "\n",
    "    @property\n",
    "    def test_labels(self):\n",
    "        warnings.warn(\"test_labels has been renamed targets\")\n",
    "        return self.targets\n",
    "\n",
    "    @property\n",
    "    def train_data(self):\n",
    "        warnings.warn(\"train_data has been renamed data\")\n",
    "        return self.data\n",
    "\n",
    "    @property\n",
    "    def test_data(self):\n",
    "        warnings.warn(\"test_data has been renamed data\")\n",
    "        return self.data\n",
    "\n",
    "    def __init__(\n",
    "            self,\n",
    "            root,\n",
    "            train= True,\n",
    "            transform = None,\n",
    "            target_transform = None,\n",
    "            download = False,\n",
    "    ):\n",
    "        super(MNISTsuperimposed, self).__init__(root, transform=transform,\n",
    "                                    target_transform=target_transform)\n",
    "        self.train = train  # training set or test set\n",
    "\n",
    "        if self._check_legacy_exist():\n",
    "            self.data, self.targets = self._load_legacy_data()\n",
    "\n",
    "        if download:\n",
    "            self.download()\n",
    "\n",
    "        if not self._check_exists():\n",
    "            raise RuntimeError('Dataset not found.' +\n",
    "                               ' You can use download=True to download it')\n",
    "\n",
    "        self.data, self.targets = self._load_data()\n",
    "\n",
    "    def _check_legacy_exist(self):\n",
    "        processed_folder_exists = os.path.exists(self.processed_folder)\n",
    "        if not processed_folder_exists:\n",
    "            return False\n",
    "\n",
    "        return all(\n",
    "            check_integrity(os.path.join(self.processed_folder, file)) for file in (self.training_file, self.test_file)\n",
    "        )\n",
    "\n",
    "    def _load_legacy_data(self):\n",
    "        # This is for BC only. We no longer cache the data in a custom binary, but simply read from the raw data\n",
    "        # directly.\n",
    "        data_file = self.training_file if self.train else self.test_file\n",
    "        return torch.load(os.path.join(self.processed_folder, data_file))\n",
    "\n",
    "    def _load_data(self):\n",
    "        image_file = f\"{'train' if self.train else 't10k'}-images-idx3-ubyte\"\n",
    "        data = read_image_file(os.path.join(self.raw_folder, image_file))\n",
    "        #Technically, we do not even need the labels for now\n",
    "        # We just need the clean images of both types\n",
    "        randata = data[torch.randperm(data.shape[0]),:,:]\n",
    "        targets = (data, randata)\n",
    "        \n",
    "        \n",
    "        # Now do the ambiguation here\n",
    "        data = data + randata\n",
    "        return data, targets\n",
    "\n",
    "    def __getitem__(self, index):\n",
    "        \"\"\"\n",
    "        Args:\n",
    "            index (int): Index\n",
    "\n",
    "        Returns:\n",
    "            tuple: (image, target) where target is index of the target class.\n",
    "        \"\"\"\n",
    "        img, target = self.data[index], (self.targets[0][index], self.targets[1][index])\n",
    "        # doing this so that it is consistent with all other datasets\n",
    "        # to return a PIL Imagedata[torch.randperm(data.shape[0]),:,:]\n",
    "        img = Image.fromarray(img.numpy(), mode='L')\n",
    "        tgt1 = Image.fromarray(target[0].numpy(), mode='L')\n",
    "        tgt2 = Image.fromarray(target[1].numpy(), mode='L')\n",
    "\n",
    "        if self.transform is not None:\n",
    "            img = self.transform(img)\n",
    "\n",
    "        if self.target_transform is not None:\n",
    "            tgt1 = self.target_transform(tgt1)\n",
    "            tgt2 = self.target_transform(tgt2)\n",
    "            \n",
    "\n",
    "        return img, (tgt1, tgt2)\n",
    "\n",
    "    def __len__(self):\n",
    "        return len(self.data)\n",
    "\n",
    "    @property\n",
    "    def raw_folder(self):\n",
    "        return os.path.join(self.root, self.__class__.__name__, 'raw')\n",
    "\n",
    "    @property\n",
    "    def processed_folder(self) -> str:\n",
    "        return os.path.join(self.root, self.__class__.__name__, 'processed')\n",
    "\n",
    "    @property\n",
    "    def class_to_idx(self):\n",
    "        return {_class: i for i, _class in enumerate(self.classes)}\n",
    "\n",
    "    def _check_exists(self):\n",
    "        return all(\n",
    "            check_integrity(os.path.join(self.raw_folder, os.path.splitext(os.path.basename(url))[0]))\n",
    "            for url, _ in self.resources\n",
    "        )\n",
    "\n",
    "    def download(self):\n",
    "        \"\"\"Download the MNIST data if it doesn't exist already.\"\"\"\n",
    "\n",
    "        if self._check_exists():\n",
    "            return\n",
    "\n",
    "        os.makedirs(self.raw_folder, exist_ok=True)\n",
    "\n",
    "        # download files\n",
    "        for filename, md5 in self.resources:\n",
    "            for mirror in self.mirrors:\n",
    "                url = \"{}{}\".format(mirror, filename)\n",
    "                try:\n",
    "                    print(\"Downloading {}\".format(url))\n",
    "                    download_and_extract_archive(\n",
    "                        url, download_root=self.raw_folder,\n",
    "                        filename=filename,\n",
    "                        md5=md5\n",
    "                    )\n",
    "                except URLError as error:\n",
    "                    print(\n",
    "                        \"Failed to download (trying next):\\n{}\".format(error)\n",
    "                    )\n",
    "                    continue\n",
    "                finally:\n",
    "                    print()\n",
    "                break\n",
    "            else:\n",
    "                raise RuntimeError(\"Error downloading {}\".format(filename))\n",
    "\n",
    "    def extra_repr(self) -> str:\n",
    "        return \"Split: {}\".format(\"Train\" if self.train is True else \"Test\")"
   ]
  },
  {
   "cell_type": "code",
   "execution_count": null,
   "id": "accurate-calgary",
   "metadata": {
    "gradient": {
     "editing": false
    }
   },
   "outputs": [],
   "source": [
    "class Downsample(object):\n",
    "    def __init__(self, size=[1,196]):\n",
    "        self.size=size\n",
    "\n",
    "    def __call__(self, tensor):\n",
    "        img = np.squeeze(tensor)\n",
    "        m = torch.nn.AvgPool2d(2, stride=2)\n",
    "        return m(img.unsqueeze(0))\n",
    "\n",
    "    def __repr__(self):\n",
    "        return self.__class__.__name__+'({})'.format(self.size)"
   ]
  },
  {
   "cell_type": "code",
   "execution_count": null,
   "id": "documentary-despite",
   "metadata": {
    "gradient": {
     "editing": false
    }
   },
   "outputs": [
    {
     "name": "stderr",
     "output_type": "stream",
     "text": [
      "/opt/conda/lib/python3.8/site-packages/torchvision/datasets/mnist.py:480: UserWarning: The given NumPy array is not writeable, and PyTorch does not support non-writeable tensors. This means you can write to the underlying (supposedly non-writeable) NumPy array using the tensor. You may want to copy the array to protect its data or make it writeable before converting it to a tensor. This type of warning will be suppressed for the rest of this program. (Triggered internally at  ../torch/csrc/utils/tensor_numpy.cpp:137.)\n",
      "  return torch.from_numpy(parsed.astype(m[2], copy=False)).view(*s)\n"
     ]
    }
   ],
   "source": [
    "transform = transforms.Compose(\n",
    "    [transforms.Grayscale(),\n",
    "     transforms.ToTensor(),\n",
    "     Downsample()\n",
    "     ])\n",
    "\n",
    "target_transform =transforms.Compose(\n",
    "    [transforms.Grayscale(),\n",
    "     transforms.ToTensor()     \n",
    "    ]) \n",
    "mnist_superimposed = MNISTsuperimposed(\"./MNIST data/train\", train = True, download = True, transform = transform, target_transform=target_transform)"
   ]
  },
  {
   "cell_type": "code",
   "execution_count": null,
   "id": "treated-mitchell",
   "metadata": {
    "gradient": {
     "editing": false
    }
   },
   "outputs": [],
   "source": [
    "from torch.utils.data import DataLoader\n",
    "batch = 64\n",
    "trainset = DataLoader(mnist_superimposed, batch_size=batch, shuffle = True)"
   ]
  },
  {
   "cell_type": "code",
   "execution_count": null,
   "id": "spoken-sword",
   "metadata": {
    "gradient": {
     "editing": false
    }
   },
   "outputs": [],
   "source": [
    "def show_images(dataset, training = True):\n",
    "    \n",
    "    fig = plt.figure(figsize = (20, 14))\n",
    "    rows = 3\n",
    "    columns = 4\n",
    "    j=0\n",
    "    for i in range(1,columns*rows+1):\n",
    "        if i >=1 and i< 5:\n",
    "            fig.add_subplot(rows, columns, i)\n",
    "            plt.imshow(dataset[i][0].squeeze(0))\n",
    "        if i >=5 and i < 9:\n",
    "            fig.add_subplot(rows, columns, i)\n",
    "            plt.imshow(dataset[i-4][1][0].squeeze(0))\n",
    "        if i >= 9 and i<13:\n",
    "            fig.add_subplot(rows, columns, i)\n",
    "            plt.imshow(dataset[i-8][1][1].squeeze(0))"
   ]
  },
  {
   "cell_type": "code",
   "execution_count": null,
   "id": "cordless-georgia",
   "metadata": {
    "gradient": {
     "editing": false
    }
   },
   "outputs": [
    {
     "data": {
      "image/png": "[encoded data removed]",
      "text/plain": [
       "<Figure size 1440x1008 with 12 Axes>"
      ]
     },
     "metadata": {
      "needs_background": "light"
     },
     "output_type": "display_data"
    }
   ],
   "source": [
    "show_images(mnist_superimposed)"
   ]
  },
  {
   "cell_type": "code",
   "execution_count": null,
   "id": "italic-moscow",
   "metadata": {
    "gradient": {
     "editing": false
    }
   },
   "outputs": [],
   "source": [
    "import torch\n",
    "from torch import nn as nn\n",
    "from torch.nn import Conv2d, ConvTranspose2d, Linear, Sequential, Flatten, ReLU, LeakyReLU, AvgPool2d, MaxPool2d,Dropout"
   ]
  },
  {
   "cell_type": "code",
   "execution_count": null,
   "id": "literary-laugh",
   "metadata": {
    "gradient": {
     "editing": false
    }
   },
   "outputs": [],
   "source": [
    "class AE(nn.Module):\n",
    "    def __init__(self, inplace = False):\n",
    "        super(AE,self).__init__()\n",
    "        \n",
    "        self.Upsample_1 = nn.Sequential(\n",
    "            nn.Flatten(start_dim = 2),\n",
    "            nn.Linear(196, 256),\n",
    "            nn.Linear(256, 256),\n",
    "            nn.ReLU(inplace),\n",
    "            \n",
    "            nn.Linear(256, 512),\n",
    "            nn.Linear(512, 784),\n",
    "            nn.Linear(784, 784),\n",
    "            nn.ReLU(inplace),\n",
    "        )\n",
    "        \n",
    "            \n",
    "        self.initial_Processing = nn.Sequential(\n",
    "            nn.Conv2d(in_channels = 1, out_channels = 8, kernel_size = 3, padding = 1, stride = 1),\n",
    "            nn.BatchNorm2d(8),\n",
    "            nn.ReLU(inplace),\n",
    "            nn.Conv2d(in_channels = 8, out_channels = 64, kernel_size = 3, padding =1, stride = 1),\n",
    "            nn.BatchNorm2d(64),\n",
    "            nn.ReLU(inplace),\n",
    "        )\n",
    "\n",
    "        self.Down_1 = nn.Sequential(\n",
    "            nn.Conv2d(in_channels = 64, out_channels = 1024, kernel_size = (3, 3), padding = 1, stride = 1),\n",
    "            nn.ReLU(inplace),\n",
    "            nn.Conv2d(in_channels = 1024, out_channels = 1024, kernel_size = (3, 3), padding = 1, stride = 1),\n",
    "            nn.ReLU(inplace),\n",
    "            nn.MaxPool2d(kernel_size = (2, 2)),\n",
    "        )\n",
    "\n",
    "        self.Down_2 = nn.Sequential(\n",
    "            nn.Conv2d(in_channels = 1024, out_channels = 512, kernel_size = (3, 3), padding = 1, stride = 1),\n",
    "            nn.ReLU(inplace),\n",
    "            nn.Conv2d(in_channels = 512, out_channels = 512, kernel_size = (3, 3), padding = 1, stride = 1),\n",
    "            nn.ReLU(inplace),\n",
    "            nn.MaxPool2d(kernel_size = (2, 2)),\n",
    "        )\n",
    "\n",
    "\n",
    "        self.Down_3 = nn.Sequential(\n",
    "            nn.Conv2d(in_channels = 512, out_channels = 256, kernel_size = (3, 3), padding = 1, stride = 1),\n",
    "            nn.ReLU(inplace),\n",
    "            nn.Conv2d(in_channels = 256, out_channels = 256, kernel_size = (3, 3), padding = 1, stride = 1),\n",
    "            nn.ReLU(inplace),\n",
    "            nn.MaxPool2d(kernel_size = (2, 2)),\n",
    "        )\n",
    "\n",
    "        self.Down_4 = nn.Sequential(\n",
    "            nn.Conv2d(in_channels = 256, out_channels = 128, kernel_size = (3, 3), padding = 1, stride = 1),\n",
    "            nn.ReLU(inplace),\n",
    "            nn.Conv2d(in_channels = 128, out_channels = 128, kernel_size = (3, 3), padding = 1, stride = 1),\n",
    "            nn.ReLU(inplace),\n",
    "            nn.MaxPool2d(kernel_size = (2, 2)),\n",
    "        )\n",
    "\n",
    "        self.Up_1 = nn.Sequential(\n",
    "            nn.Conv2d(in_channels = 128, out_channels = 64, kernel_size = (3, 3), padding = 1, stride = 1),\n",
    "            nn.ReLU(inplace),\n",
    "            nn.Conv2d(in_channels = 64, out_channels = 128, kernel_size = (3, 3), padding = 1, stride = 1),\n",
    "            nn.ReLU(inplace),\n",
    "            nn.ConvTranspose2d(in_channels = 128, out_channels = 128, kernel_size = (2, 2))\n",
    "        )\n",
    "\n",
    "        self.Up_2 = nn.Sequential(\n",
    "            nn.Conv2d(in_channels = 256, out_channels = 128, kernel_size = (3, 3), padding = 1, stride = 1),\n",
    "            nn.ReLU(inplace),\n",
    "            nn.Conv2d(in_channels = 128, out_channels = 256, kernel_size = (3, 3), padding = 1, stride = 1),\n",
    "            nn.ReLU(inplace),\n",
    "            nn.ConvTranspose2d(in_channels = 256, out_channels = 256, kernel_size = (2, 2))\n",
    "        )\n",
    "\n",
    "        self.Up_3 = nn.Sequential(\n",
    "            nn.Conv2d(in_channels = 512, out_channels = 256, kernel_size = (3, 3), padding = 1, stride = 1),\n",
    "            nn.ReLU(inplace),\n",
    "            nn.Conv2d(in_channels = 256, out_channels = 512, kernel_size = (3, 3), padding = 1, stride = 1),\n",
    "            nn.ReLU(inplace),\n",
    "            nn.ConvTranspose2d(in_channels = 512, out_channels = 512, kernel_size = (2, 2))\n",
    "        )\n",
    "\n",
    "        self.Up_4 = nn.Sequential(\n",
    "            nn.Conv2d(in_channels = 1024, out_channels = 512, kernel_size = (3, 3), padding = 1, stride = 1),\n",
    "            nn.ReLU(inplace),\n",
    "            nn.Conv2d(in_channels = 512, out_channels = 1024, kernel_size = (3, 3), padding = 1, stride = 1),\n",
    "            nn.ReLU(inplace),\n",
    "            nn.ConvTranspose2d(in_channels = 1024, out_channels = 1024, kernel_size = (2, 2))\n",
    "        )\n",
    "\n",
    "        self.Up_5 = nn.Sequential(\n",
    "            nn.Conv2d(in_channels = 2048, out_channels = 1024, kernel_size = (3, 3), padding = 1, stride = 1),\n",
    "            nn.ReLU(inplace),\n",
    "            nn.Conv2d(in_channels = 1024, out_channels = 1024, kernel_size = (3, 3), padding = 1, stride = 1),\n",
    "            nn.ReLU(inplace),\n",
    "            nn.ConvTranspose2d(in_channels = 1024, out_channels = 2, kernel_size = (1, 1))\n",
    "        )\n",
    "        \n",
    "        self.Upsample_2 = nn.Sequential(\n",
    "            nn.Flatten(start_dim = 1),\n",
    "            nn.Linear(392, 512),\n",
    "            nn.Linear(512, 512),\n",
    "            nn.ReLU(inplace),\n",
    "            \n",
    "            nn.Linear(512, 1024),\n",
    "            nn.Linear(1024, 1568),\n",
    "            nn.Linear(1568, 1568),\n",
    "            nn.Sigmoid(),\n",
    "        )\n",
    "        \n",
    "    def forward(self, x):\n",
    "        \n",
    "        output = self.Upsample_1(x)\n",
    "        output = output.reshape(output.shape[0], 1, 28, 28)\n",
    "        \n",
    "        output = self.initial_Processing(output)\n",
    "        \n",
    "        output = self.Down_1(output)\n",
    "        output_1 = output\n",
    "        \n",
    "        \n",
    "        output = self.Down_2(output)\n",
    "        output_2 = output\n",
    "        \n",
    "        output = self.Down_3(output)\n",
    "        output_3 = output\n",
    "        \n",
    "        output = self.Down_4(output)\n",
    "        output_4 = output\n",
    "        \n",
    "        \n",
    "        output = self.Up_1(output)\n",
    "        diffY = output_4.size()[2] - output.size()[2]\n",
    "        diffX = output_4.size()[3] - output.size()[3]\n",
    "        output = F.pad(output, [diffX // 2, diffX - diffX // 2,\n",
    "                        diffY // 2, diffY - diffY // 2])\n",
    "        output = torch.cat([output_4, output], dim=1)\n",
    "        \n",
    "\n",
    "        output = self.Up_2(output)\n",
    "        diffY = output_3.size()[2] - output.size()[2]\n",
    "        diffX = output_3.size()[3] - output.size()[3]\n",
    "        output = F.pad(output, [diffX // 2, diffX - diffX // 2,\n",
    "                        diffY // 2, diffY - diffY // 2])\n",
    "        output = torch.cat([output_3, output], dim=1)\n",
    "\n",
    "\n",
    "        output = self.Up_3(output)        \n",
    "        diffY = output_2.size()[2] - output.size()[2]\n",
    "        diffX = output_2.size()[3] - output.size()[3]\n",
    "        output = F.pad(output, [diffX // 2, diffX - diffX // 2,\n",
    "                        diffY // 2, diffY - diffY // 2])\n",
    "        output = torch.cat([output_2, output], dim=1)\n",
    "\n",
    "\n",
    "        output = self.Up_4(output)\n",
    "        diffY = output_1.size()[2] - output.size()[2]\n",
    "        diffX = output_1.size()[3] - output.size()[3]\n",
    "        output = F.pad(output, [diffX // 2, diffX - diffX // 2,\n",
    "                        diffY // 2, diffY - diffY // 2])\n",
    "        output = torch.cat([output_1, output], dim=1)\n",
    "\n",
    "\n",
    "        output = self.Up_5(output)\n",
    "\n",
    "        \n",
    "        output = self.Upsample_2(output)        \n",
    "        return output"
   ]
  },
  {
   "cell_type": "code",
   "execution_count": null,
   "id": "aboriginal-middle",
   "metadata": {
    "gradient": {
     "editing": false
    }
   },
   "outputs": [],
   "source": [
    "device = torch.device('cuda') if torch.cuda.is_available else torch.device('cpu')\n",
    "AEnet = AE(inplace = True).cuda()"
   ]
  },
  {
   "cell_type": "code",
   "execution_count": null,
   "id": "empirical-fantasy",
   "metadata": {
    "gradient": {
     "editing": false
    }
   },
   "outputs": [
    {
     "name": "stdout",
     "output_type": "stream",
     "text": [
      "cuda\n"
     ]
    }
   ],
   "source": [
    "optimizer = torch.optim.Adam(AEnet.parameters(), lr=0.00005)\n",
    "criterion = nn.MSELoss()\n",
    "print(device)"
   ]
  },
  {
   "cell_type": "code",
   "execution_count": null,
   "id": "occupational-berlin",
   "metadata": {
    "gradient": {
     "editing": false
    },
    "scrolled": true
   },
   "outputs": [],
   "source": [
    "def train_test(AEnet, dataset, Training = True):\n",
    "\n",
    "    if Training:\n",
    "        epochs = 1\n",
    "        train_loss = []\n",
    "        flag = True\n",
    "        for epoch in range(epochs):\n",
    "            running_loss = 0.0\n",
    "            for i, data in enumerate(trainset):\n",
    "                optimizer.zero_grad()\n",
    "                outputs = AEnet(data[0].float().to(device))\n",
    "                output_1 = outputs[:, :784]\n",
    "                output_2 = outputs[:, 784:]\n",
    "                loss = criterion(output_1.float().to(device), torch.flatten(data[1][0],1).float().to(device)) + criterion(output_2.float().to(device), torch.flatten(data[1][1],1).float().to(device))\n",
    "                loss.backward()\n",
    "                optimizer.step()\n",
    "                train_loss.append(loss.item())\n",
    "                running_loss += loss.item()\n",
    "                if i % 100 == 99:\n",
    "                    print('[%d, %5d] loss per image: %.6f' %\n",
    "                          (epoch + 1, i + 1, loss.item()/32))\n",
    "                    if epoch % 10 == 9:\n",
    "                        torch.save(AEnet.state_dict(), \"./weights.pth\")\n",
    "                \n",
    "            \n",
    "\n",
    "            \n",
    "        print(\"The lowest was: \", min(train_loss)/32)\n",
    "\n",
    "        print('Finished Training')\n",
    "        flag = False\n",
    "        return outputs\n",
    "            \n",
    "    else:\n",
    "        testing_loss = []\n",
    "        for i, data in enumerate(trainset):\n",
    "                optimizer.zero_grad()\n",
    "                outputs = AEnet(data[0].float().to(device))\n",
    "                output_1 = outputs[:, :784]\n",
    "                output_2 = outputs[:, 784:]\n",
    "                loss = criterion(output_1.float().to(device), torch.flatten(data[1][0],1).float().to(device)) + criterion(output_2.float().to(device), torch.flatten(data[1][1],1).float().to(device))\n",
    "                testing_loss.append(loss.item())\n",
    "                if i % 50 == 49:\n",
    "                    print('[%5d] loss per image: %.6f' %\n",
    "                          (i + 1, loss.item()/32))\n",
    "                    \n",
    "        print(\"The lowest was: \", min(testing_loss)/32)\n",
    "        print('Finished Testing')\n",
    "        return outputs"
   ]
  },
  {
   "cell_type": "code",
   "execution_count": null,
   "id": "apparent-cyprus",
   "metadata": {
    "gradient": {
     "editing": false
    }
   },
   "outputs": [
    {
     "name": "stdout",
     "output_type": "stream",
     "text": [
      "[1,   100] loss per image: 0.000415\n",
      "[1,   200] loss per image: 0.000423\n",
      "[1,   300] loss per image: 0.000417\n",
      "[1,   400] loss per image: 0.000430\n",
      "[1,   500] loss per image: 0.000442\n",
      "[1,   600] loss per image: 0.000430\n",
      "[1,   700] loss per image: 0.000415\n",
      "[1,   800] loss per image: 0.000401\n",
      "[1,   900] loss per image: 0.000456\n",
      "The lowest was:  0.0003673934261314571\n",
      "Finished Training\n"
     ]
    }
   ],
   "source": [
    "output= train_test(AEnet, trainset)"
   ]
  },
  {
   "cell_type": "code",
   "execution_count": null,
   "id": "egyptian-burlington",
   "metadata": {
    "gradient": {
     "editing": false
    }
   },
   "outputs": [],
   "source": [
    "#Print only the output images\n",
    "def show_output_images(dataset, outputs, training = True):\n",
    "    \n",
    "    fig = plt.figure(figsize = (20, 14))\n",
    "    rows = 5\n",
    "    columns = 4\n",
    "    j=0\n",
    "    for i in range(1,columns*rows+1):\n",
    "        if training:\n",
    "            \n",
    "            \n",
    "            if i >=1 and i< 5:\n",
    "                fig.add_subplot(rows, columns, i)\n",
    "                plt.axis('off')\n",
    "                plt.imshow(dataset[i][0].squeeze(0), cmap = 'gray')\n",
    "            if i >=5 and i< 9:\n",
    "                fig.add_subplot(rows, columns, i)\n",
    "                plt.axis('off')\n",
    "                plt.imshow(outputs[i-4][:784].cpu().detach().numpy().reshape(28,28), cmap='gray')\n",
    "            if i >=9 and i < 13:\n",
    "                fig.add_subplot(rows, columns, i)\n",
    "                plt.axis('off')\n",
    "                plt.imshow(outputs[i-8][784:].cpu().detach().numpy().reshape(28,28), cmap='gray')\n",
    "            if i >=13 and i < 17:\n",
    "                fig.add_subplot(rows, columns, i)\n",
    "                plt.axis('off')\n",
    "                plt.imshow(data[1][0][i-12].cpu().detach().numpy().reshape(28,28), cmap='gray')\n",
    "            if i >=17 and i < 21:    \n",
    "                fig.add_subplot(rows, columns, i)\n",
    "                plt.axis('off')\n",
    "                plt.imshow(data[1][1][i - 16].cpu().detach().numpy().reshape(28,28), cmap='gray')\n",
    "        else:\n",
    "            if i >=1 and i< 5:\n",
    "                fig.add_subplot(rows, columns, i)\n",
    "                plt.axis('off')\n",
    "                plt.imshow(dataset[i][0].squeeze(0), cmap = 'gray')\n",
    "            if i >=5 and i< 9:\n",
    "                fig.add_subplot(rows, columns, i)\n",
    "                plt.axis('off')\n",
    "                plt.imshow(outputs[i-4][:784].cpu().detach().numpy().reshape(28,28), cmap='gray')\n",
    "            if i >=9 and i < 13:\n",
    "                fig.add_subplot(rows, columns, i)\n",
    "                plt.axis('off')\n",
    "                plt.imshow(outputs[i-8][784:].cpu().detach().numpy().reshape(28,28), cmap='gray')\n",
    "            if i >=13 and i < 17:\n",
    "                fig.add_subplot(rows, columns, i)\n",
    "                plt.axis('off')\n",
    "                plt.imshow(data[1][0][i-12].cpu().detach().numpy().reshape(28,28), cmap='gray')\n",
    "            if i >=17 and i < 21:    \n",
    "                fig.add_subplot(rows, columns, i)\n",
    "                plt.axis('off')\n",
    "                plt.imshow(data[1][1][i - 16].cpu().detach().numpy().reshape(28,28), cmap='gray')\n",
    "            "
   ]
  },
  {
   "cell_type": "code",
   "execution_count": null,
   "id": "waiting-adrian",
   "metadata": {
    "gradient": {
     "editing": false
    }
   },
   "outputs": [
    {
     "data": {
      "image/png": "[encoded data removed]",
      "text/plain": [
       "<Figure size 1440x1008 with 20 Axes>"
      ]
     },
     "metadata": {
      "needs_background": "light"
     },
     "output_type": "display_data"
    }
   ],
   "source": [
    "show_output_images(mnist_superimposed, output)"
   ]
  },
  {
   "cell_type": "code",
   "execution_count": null,
   "id": "amazing-country",
   "metadata": {
    "gradient": {
     "editing": false
    }
   },
   "outputs": [
    {
     "name": "stdout",
     "output_type": "stream",
     "text": [
      "[   50] loss per image: 0.000406\n",
      "[  100] loss per image: 0.000402\n",
      "[  150] loss per image: 0.000366\n",
      "[  200] loss per image: 0.000436\n",
      "[  250] loss per image: 0.000410\n",
      "[  300] loss per image: 0.000421\n",
      "[  350] loss per image: 0.000405\n",
      "[  400] loss per image: 0.000375\n"
     ]
    }
   ],
   "source": [
    "testing_superimposed = MNISTsuperimposed(\"./MNIST data/train\", train = False, download = True, transform = transform, target_transform=target_transform)\n",
    "testset = DataLoader(testing_superimposed, batch_size=128, shuffle = False)\n",
    "outputs = train_test(AEnet, testset, False)"
   ]
  },
  {
   "cell_type": "code",
   "execution_count": null,
   "id": "dynamic-finland",
   "metadata": {
    "gradient": {
     "editing": false
    }
   },
   "outputs": [
    {
     "data": {
      "image/png": "[encoded data removed]",
      "text/plain": [
       "<Figure size 1440x1008 with 20 Axes>"
      ]
     },
     "metadata": {
      "needs_background": "light"
     },
     "output_type": "display_data"
    }
   ],
   "source": [
    "show_output_images(testing_superimposed, outputs, False)"
   ]
  },
  {
   "cell_type": "code",
   "execution_count": null,
   "id": "chief-romantic",
   "metadata": {
    "gradient": {}
   },
   "outputs": [],
   "source": [
    "device = torch.device('cuda') if torch.cuda.is_available else torch.device('cpu')\n",
    "AEnet2 = AE(inplace = True).cuda()"
   ]
  },
  {
   "cell_type": "code",
   "execution_count": null,
   "id": "strange-blink",
   "metadata": {
    "gradient": {}
   },
   "outputs": [],
   "source": [
    "AEnet2.load_state_dict(torch.load('./best_weights.pth'))"
   ]
  },
  {
   "cell_type": "code",
   "execution_count": null,
   "id": "exempt-accident",
   "metadata": {
    "gradient": {}
   },
   "outputs": [],
   "source": [
    "optimizer = torch.optim.Adam(AEnet2.parameters(), lr=0.00005)\n",
    "criterion = nn.MSELoss()"
   ]
  },
  {
   "cell_type": "code",
   "execution_count": null,
   "id": "polar-rwanda",
   "metadata": {
    "gradient": {}
   },
   "outputs": [],
   "source": [
    "testing_superimposed = MNISTsuperimposed(\"./MNIST data/train\", train = False, download = True, transform = transform, target_transform=target_transform)\n",
    "testset = DataLoader(testing_superimposed, batch_size=128, shuffle = False)\n",
    "outputs = train_test(AEnet2, testset, False)"
   ]
  },
  {
   "cell_type": "code",
   "execution_count": null,
   "id": "productive-benchmark",
   "metadata": {
    "gradient": {}
   },
   "outputs": [],
   "source": [
    "show_output_images(testing_superimposed, outputs, False)"
   ]
  },
  {
   "cell_type": "code",
   "execution_count": null,
   "id": "interracial-denver",
   "metadata": {
    "gradient": {}
   },
   "outputs": [],
   "source": []
  }
 ],
 "metadata": {
  "kernelspec": {
   "display_name": "Python 3",
   "language": "python",
   "name": "python3"
  },
  "language_info": {
   "codemirror_mode": {
    "name": "ipython",
    "version": 3
   },
   "file_extension": ".py",
   "mimetype": "text/x-python",
   "name": "python",
   "nbconvert_exporter": "python",
   "pygments_lexer": "ipython3",
   "version": "3.8.3"
  }
 },
 "nbformat": 4,
 "nbformat_minor": 5
}
