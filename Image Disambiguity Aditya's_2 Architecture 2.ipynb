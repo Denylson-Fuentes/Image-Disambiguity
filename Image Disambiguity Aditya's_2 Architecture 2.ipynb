{
 "cells": [
  {
   "cell_type": "code",
   "execution_count": 2,
   "metadata": {},
   "outputs": [],
   "source": [
    "# !pip install torch\n",
    "# !pip install torchvision"
   ]
  },
  {
   "cell_type": "code",
   "execution_count": 1,
   "metadata": {
    "gradient": {
     "editing": false
    }
   },
   "outputs": [],
   "source": [
    "import torch \n",
    "import torchvision as tv\n",
    "from torchvision import datasets\n",
    "from torchvision import transforms\n",
    "import matplotlib.pyplot as plt\n",
    "import matplotlib.image as image\n",
    "import cv2 as cv\n",
    "from PIL import Image\n",
    "import numpy as np\n",
    "from torchvision.datasets.vision import VisionDataset\n",
    "from typing import Any, Callable, Dict, List, Optional, Tuple\n",
    "import os\n",
    "import os.path\n",
    "from torch import nn\n",
    "from torchvision.datasets.mnist import read_image_file, read_label_file\n",
    "from torchvision.datasets.utils import download_and_extract_archive, extract_archive, verify_str_arg, check_integrity"
   ]
  },
  {
   "cell_type": "code",
   "execution_count": 2,
   "metadata": {},
   "outputs": [],
   "source": [
    "class MNISTsuperimposed(VisionDataset):\n",
    "    \"\"\"`MNIST <http://yann.lecun.com/exdb/mnist/>`_ Dataset.\n",
    "\n",
    "    Args:\n",
    "        root (string): Root directory of dataset where ``MNIST/processed/training.pt``\n",
    "            and  ``MNIST/processed/test.pt`` exist.\n",
    "        train (bool, optional): If True, creates dataset from ``training.pt``,\n",
    "            otherwise from ``test.pt``.\n",
    "        download (bool, optional): If true, downloads the dataset from the internet and\n",
    "            puts it in root directory. If dataset is already downloaded, it is not\n",
    "            downloaded again.\n",
    "        transform (callable, optional): A function/transform that  takes in an PIL image\n",
    "            and returns a transformed version. E.g, ``transforms.RandomCrop``\n",
    "        target_transform (callable, optional): A function/transform that takes in the\n",
    "            target and transforms it.\n",
    "    \"\"\"\n",
    "\n",
    "    mirrors = [\n",
    "        'http://yann.lecun.com/exdb/mnist/',\n",
    "        'https://ossci-datasets.s3.amazonaws.com/mnist/',\n",
    "    ]\n",
    "\n",
    "    resources = [\n",
    "        (\"train-images-idx3-ubyte.gz\", \"f68b3c2dcbeaaa9fbdd348bbdeb94873\"),\n",
    "        (\"train-labels-idx1-ubyte.gz\", \"d53e105ee54ea40749a09fcbcd1e9432\"),\n",
    "        (\"t10k-images-idx3-ubyte.gz\", \"9fb629c4189551a2d022fa330f9573f3\"),\n",
    "        (\"t10k-labels-idx1-ubyte.gz\", \"ec29112dd5afa0611ce80d1b7f02629c\")\n",
    "    ]\n",
    "\n",
    "    training_file = 'training.pt'\n",
    "    test_file = 'test.pt'\n",
    "    classes = ['0 - zero', '1 - one', '2 - two', '3 - three', '4 - four',\n",
    "               '5 - five', '6 - six', '7 - seven', '8 - eight', '9 - nine']\n",
    "\n",
    "    @property\n",
    "    def train_labels(self):\n",
    "        warnings.warn(\"train_labels has been renamed targets\")\n",
    "        return self.targets\n",
    "\n",
    "    @property\n",
    "    def test_labels(self):\n",
    "        warnings.warn(\"test_labels has been renamed targets\")\n",
    "        return self.targets\n",
    "\n",
    "    @property\n",
    "    def train_data(self):\n",
    "        warnings.warn(\"train_data has been renamed data\")\n",
    "        return self.data\n",
    "\n",
    "    @property\n",
    "    def test_data(self):\n",
    "        warnings.warn(\"test_data has been renamed data\")\n",
    "        return self.data\n",
    "\n",
    "    def __init__(\n",
    "            self,\n",
    "            root,\n",
    "            train= True,\n",
    "            transform = None,\n",
    "            target_transform = None,\n",
    "            download = False,\n",
    "    ):\n",
    "        super(MNISTsuperimposed, self).__init__(root, transform=transform,\n",
    "                                    target_transform=target_transform)\n",
    "        self.train = train  # training set or test set\n",
    "\n",
    "        if self._check_legacy_exist():\n",
    "            self.data, self.targets = self._load_legacy_data()\n",
    "\n",
    "        if download:\n",
    "            self.download()\n",
    "\n",
    "        if not self._check_exists():\n",
    "            raise RuntimeError('Dataset not found.' +\n",
    "                               ' You can use download=True to download it')\n",
    "\n",
    "        self.data, self.targets = self._load_data()\n",
    "\n",
    "    def _check_legacy_exist(self):\n",
    "        processed_folder_exists = os.path.exists(self.processed_folder)\n",
    "        if not processed_folder_exists:\n",
    "            return False\n",
    "\n",
    "        return all(\n",
    "            check_integrity(os.path.join(self.processed_folder, file)) for file in (self.training_file, self.test_file)\n",
    "        )\n",
    "\n",
    "    def _load_legacy_data(self):\n",
    "        # This is for BC only. We no longer cache the data in a custom binary, but simply read from the raw data\n",
    "        # directly.\n",
    "        data_file = self.training_file if self.train else self.test_file\n",
    "        return torch.load(os.path.join(self.processed_folder, data_file))\n",
    "\n",
    "    def _load_data(self):\n",
    "        image_file = f\"{'train' if self.train else 't10k'}-images-idx3-ubyte\"\n",
    "        data = read_image_file(os.path.join(self.raw_folder, image_file))\n",
    "        #Technically, we do not even need the labels for now\n",
    "        # We just need the clean images of both types\n",
    "        randata = data[torch.randperm(data.shape[0]),:,:]\n",
    "        targets = (data, randata)\n",
    "        \n",
    "        \n",
    "        # Now do the ambiguation here\n",
    "        data = data + randata\n",
    "        return data, targets\n",
    "\n",
    "    def __getitem__(self, index):\n",
    "        \"\"\"\n",
    "        Args:\n",
    "            index (int): Index\n",
    "\n",
    "        Returns:\n",
    "            tuple: (image, target) where target is index of the target class.\n",
    "        \"\"\"\n",
    "        img, target = self.data[index], (self.targets[0][index], self.targets[1][index])\n",
    "        # doing this so that it is consistent with all other datasets\n",
    "        # to return a PIL Imagedata[torch.randperm(data.shape[0]),:,:]\n",
    "        img = Image.fromarray(img.numpy(), mode='L')\n",
    "\n",
    "        if self.transform is not None:\n",
    "            img = self.transform(img)\n",
    "\n",
    "        if self.target_transform is not None:\n",
    "            target = self.target_transform(target)\n",
    "            \n",
    "\n",
    "        return img, target\n",
    "\n",
    "    def __len__(self):\n",
    "        return len(self.data)\n",
    "\n",
    "    @property\n",
    "    def raw_folder(self):\n",
    "        return os.path.join(self.root, self.__class__.__name__, 'raw')\n",
    "\n",
    "    @property\n",
    "    def processed_folder(self) -> str:\n",
    "        return os.path.join(self.root, self.__class__.__name__, 'processed')\n",
    "\n",
    "    @property\n",
    "    def class_to_idx(self):\n",
    "        return {_class: i for i, _class in enumerate(self.classes)}\n",
    "\n",
    "    def _check_exists(self):\n",
    "        return all(\n",
    "            check_integrity(os.path.join(self.raw_folder, os.path.splitext(os.path.basename(url))[0]))\n",
    "            for url, _ in self.resources\n",
    "        )\n",
    "\n",
    "    def download(self):\n",
    "        \"\"\"Download the MNIST data if it doesn't exist already.\"\"\"\n",
    "\n",
    "        if self._check_exists():\n",
    "            return\n",
    "\n",
    "        os.makedirs(self.raw_folder, exist_ok=True)\n",
    "\n",
    "        # download files\n",
    "        for filename, md5 in self.resources:\n",
    "            for mirror in self.mirrors:\n",
    "                url = \"{}{}\".format(mirror, filename)\n",
    "                try:\n",
    "                    print(\"Downloading {}\".format(url))\n",
    "                    download_and_extract_archive(\n",
    "                        url, download_root=self.raw_folder,\n",
    "                        filename=filename,\n",
    "                        md5=md5\n",
    "                    )\n",
    "                except URLError as error:\n",
    "                    print(\n",
    "                        \"Failed to download (trying next):\\n{}\".format(error)\n",
    "                    )\n",
    "                    continue\n",
    "                finally:\n",
    "                    print()\n",
    "                break\n",
    "            else:\n",
    "                raise RuntimeError(\"Error downloading {}\".format(filename))\n",
    "\n",
    "    def extra_repr(self) -> str:\n",
    "        return \"Split: {}\".format(\"Train\" if self.train is True else \"Test\")"
   ]
  },
  {
   "cell_type": "code",
   "execution_count": 3,
   "metadata": {},
   "outputs": [],
   "source": [
    "class Downsample(object):\n",
    "    def __init__(self, size=[1,196]):\n",
    "        self.size=size\n",
    "\n",
    "    def __call__(self, tensor):\n",
    "        img = np.squeeze(tensor)\n",
    "        m = torch.nn.AvgPool2d(2, stride=2)\n",
    "        return m(img.unsqueeze(0))\n",
    "\n",
    "    def __repr__(self):\n",
    "        return self.__class__.__name__+'({})'.format(self.size)"
   ]
  },
  {
   "cell_type": "code",
   "execution_count": 4,
   "metadata": {},
   "outputs": [
    {
     "name": "stderr",
     "output_type": "stream",
     "text": [
      "/home/dfuentes8/.local/lib/python3.8/site-packages/torchvision/datasets/mnist.py:498: UserWarning: The given NumPy array is not writeable, and PyTorch does not support non-writeable tensors. This means you can write to the underlying (supposedly non-writeable) NumPy array using the tensor. You may want to copy the array to protect its data or make it writeable before converting it to a tensor. This type of warning will be suppressed for the rest of this program. (Triggered internally at  /pytorch/torch/csrc/utils/tensor_numpy.cpp:180.)\n",
      "  return torch.from_numpy(parsed.astype(m[2], copy=False)).view(*s)\n"
     ]
    }
   ],
   "source": [
    "transform = transforms.Compose(\n",
    "    [transforms.Grayscale(),\n",
    "     transforms.ToTensor(),\n",
    "     Downsample()\n",
    "     ])\n",
    "mnist_superimposed = MNISTsuperimposed(\"./MNIST data/train\", train = True, download = True, transform = transform)"
   ]
  },
  {
   "cell_type": "code",
   "execution_count": 5,
   "metadata": {},
   "outputs": [],
   "source": [
    "from torch.utils.data import DataLoader\n",
    "trainset = DataLoader(mnist_superimposed, batch_size=32, shuffle = False)"
   ]
  },
  {
   "cell_type": "code",
   "execution_count": 6,
   "metadata": {
    "gradient": {
     "editing": false
    }
   },
   "outputs": [],
   "source": [
    "def show_images(dataset, training = True):\n",
    "    \n",
    "    fig = plt.figure(figsize = (20, 14))\n",
    "    rows = 3\n",
    "    columns = 4\n",
    "    j=0\n",
    "    for i in range(1,columns*rows+1):\n",
    "        if i >=1 and i< 5:\n",
    "            fig.add_subplot(rows, columns, i)\n",
    "\n",
    "            plt.imshow(dataset[i][0].squeeze(0))\n",
    "        if i >=5 and i < 9:\n",
    "            fig.add_subplot(rows, columns, i)\n",
    "            plt.imshow(dataset[i-4][1][0])\n",
    "        if i >= 9 and i<13:\n",
    "            fig.add_subplot(rows, columns, i)\n",
    "            plt.imshow(dataset[i-8][1][1])"
   ]
  },
  {
   "cell_type": "code",
   "execution_count": 7,
   "metadata": {
    "gradient": {
     "editing": false
    }
   },
   "outputs": [
    {
     "data": {
      "image/png": "[encoded data removed]",
      "text/plain": [
       "<Figure size 1440x1008 with 12 Axes>"
      ]
     },
     "metadata": {
      "needs_background": "light"
     },
     "output_type": "display_data"
    }
   ],
   "source": [
    "show_images(mnist_superimposed)"
   ]
  },
  {
   "cell_type": "code",
   "execution_count": 8,
   "metadata": {
    "gradient": {}
   },
   "outputs": [],
   "source": [
    "import torch\n",
    "from torch import nn as nn\n",
    "from torch.nn import Conv2d, ConvTranspose2d, Linear, Sequential, Flatten, ReLU, AvgPool2d, MaxPool2d"
   ]
  },
  {
   "cell_type": "code",
   "execution_count": 47,
   "metadata": {
    "gradient": {}
   },
   "outputs": [],
   "source": [
    "from pdb import set_trace\n",
    "class AE(nn.Module):\n",
    "    def __init__(self):\n",
    "        super(AE,self).__init__()\n",
    "            \n",
    "        self.Encoder = nn.Sequential(\n",
    "            nn.Conv2d(1, 4, kernel_size = 5, padding= 1, stride = 1),\n",
    "            nn.Conv2d(4, 32, kernel_size = 3, padding = 1, stride = 1),\n",
    "            nn.LeakyReLU(),\n",
    "            nn.Conv2d(32, 16, kernel_size = 7, padding = 1, stride = 1),\n",
    "            nn.Conv2d(16, 16, kernel_size = 3, padding = 1, stride = 1),\n",
    "            nn.LeakyReLU(),\n",
    "            \n",
    "            nn.Conv2d(16, 8, kernel_size = 5, padding = 1, stride = 1),\n",
    "            nn.Conv2d(8, 1, kernel_size = 5, padding = 1, stride = 1),\n",
    "            nn.ReLU(),   \n",
    "        )\n",
    "        \n",
    "        self.Linear_1 = nn.Sequential(\n",
    "            nn.Flatten(start_dim = 2),\n",
    "            nn.Linear(16, 64),\n",
    "            nn.Linear(64, 144),\n",
    "            nn.Linear(144, 144),\n",
    "            nn.LeakyReLU(),\n",
    "            \n",
    "            nn.Linear(144, 128),\n",
    "            nn.Linear(128, 256),\n",
    "            nn.Linear(256, 196),\n",
    "            nn.Linear(196, 196),\n",
    "            nn.LeakyReLU(),\n",
    "            \n",
    "            nn.Linear(196, 256),\n",
    "            nn.Linear(256, 512),\n",
    "            nn.ReLU(),\n",
    "        )\n",
    "        \n",
    "        self.Decoder = nn.Sequential(\n",
    "            nn.ConvTranspose2d(1, 5, kernel_size = 5, padding = 1, stride = 1),\n",
    "            nn.ConvTranspose2d(5, 25, kernel_size = 7, padding = 1, stride = 1),\n",
    "            nn.LeakyReLU(),\n",
    "            \n",
    "            nn.ConvTranspose2d(25, 125, kernel_size = 5, padding = 1, stride = 1),\n",
    "            nn.ConvTranspose2d(125, 125, kernel_size = 3, padding = 1, stride = 1),\n",
    "            nn.LeakyReLU(),\n",
    "            \n",
    "            nn.ConvTranspose2d(125, 25, kernel_size = 5, padding = 1, stride = 1),\n",
    "            nn.ConvTranspose2d(25, 1, kernel_size = 5, padding = 1, stride = 1),\n",
    "            nn.ReLU()\n",
    "        )\n",
    "        \n",
    "        \n",
    "    def forward(self,x):\n",
    "        \n",
    "        #Step 1\n",
    "        output = self.Encoder[:4](x)\n",
    "        output = self.Encoder[5:](output + self.Encoder[4](output))\n",
    "        \n",
    "        #Step 2\n",
    "        output = self.Linear_1[:3](output)\n",
    "        output = self.Linear_1[4](output + self.Linear_1[3](output))\n",
    "        output = self.Linear_1[5:8](output)\n",
    "        output = self.Linear_1[9:](output + self.Linear_1[8](output))\n",
    "        \n",
    "        #Step 3\n",
    "        output = output.reshape(32, 2, 16, 16)\n",
    "        \n",
    "            #Image 1\n",
    "        output_1 = output[:, :1, :, :]\n",
    "        \n",
    "        output_1 = self.Decoder[:4](output_1)\n",
    "        output_1 = self.Decoder[5:](output_1 + self.Decoder[4](output_1))\n",
    "        \n",
    "            #Image 2\n",
    "        output_2 = output[:, 1:, :, :]\n",
    "        \n",
    "        output_2 = self.Decoder[:4](output_2)\n",
    "        output_2 = self.Decoder[5:](output_2 + self.Decoder[4](output_2))\n",
    "        \n",
    "        output = torch.cat((output_1, output_2), 1)\n",
    "\n",
    "        \n",
    "        return output\n",
    "    \n"
   ]
  },
  {
   "cell_type": "code",
   "execution_count": 48,
   "metadata": {},
   "outputs": [
    {
     "name": "stdout",
     "output_type": "stream",
     "text": [
      "cuda\n"
     ]
    }
   ],
   "source": [
    "device = torch.device('cuda') if torch.cuda.is_available else torch.device('cpu')\n",
    "AEnet = AE()\n",
    "optimizer = torch.optim.Adam(AEnet.parameters(), lr=1e-3)\n",
    "criterion = nn.MSELoss()\n",
    "print(device)"
   ]
  },
  {
   "cell_type": "code",
   "execution_count": 49,
   "metadata": {
    "scrolled": true
   },
   "outputs": [
    {
     "name": "stdout",
     "output_type": "stream",
     "text": [
      "[1,   100] loss per image: 128.727753\n",
      "[1,   200] loss per image: 131.954666\n",
      "[1,   300] loss per image: 129.842010\n",
      "[1,   400] loss per image: 139.162094\n",
      "[1,   500] loss per image: 132.727722\n",
      "[1,   600] loss per image: 135.150253\n",
      "[1,   700] loss per image: 139.273743\n",
      "[1,   800] loss per image: 125.873886\n",
      "[1,   900] loss per image: 139.063293\n",
      "[1,  1000] loss per image: 136.128769\n",
      "[1,  1100] loss per image: 128.447922\n",
      "[1,  1200] loss per image: 125.569115\n",
      "[1,  1300] loss per image: 134.520691\n",
      "[1,  1400] loss per image: 131.471191\n",
      "[1,  1500] loss per image: 137.078796\n",
      "[1,  1600] loss per image: 138.002670\n",
      "[1,  1700] loss per image: 134.381454\n",
      "[1,  1800] loss per image: 132.423889\n",
      "[2,   100] loss per image: 125.422684\n",
      "[2,   200] loss per image: 131.848450\n",
      "[2,   300] loss per image: 129.717316\n",
      "[2,   400] loss per image: 138.796768\n",
      "[2,   500] loss per image: 132.453690\n",
      "[2,   600] loss per image: 135.437958\n",
      "[2,   700] loss per image: 138.811813\n",
      "[2,   800] loss per image: 125.276405\n",
      "[2,   900] loss per image: 138.846924\n",
      "[2,  1000] loss per image: 135.976242\n",
      "[2,  1100] loss per image: 128.464996\n",
      "[2,  1200] loss per image: 125.629807\n",
      "[2,  1300] loss per image: 135.397079\n",
      "[2,  1400] loss per image: 131.266403\n",
      "[2,  1500] loss per image: 136.461792\n",
      "[2,  1600] loss per image: 136.517441\n",
      "[2,  1700] loss per image: 134.912262\n",
      "[2,  1800] loss per image: 132.152725\n",
      "[3,   100] loss per image: 125.433182\n",
      "[3,   200] loss per image: 131.681366\n",
      "[3,   300] loss per image: 129.738495\n",
      "[3,   400] loss per image: 138.197662\n",
      "[3,   500] loss per image: 132.626419\n",
      "[3,   600] loss per image: 135.411057\n",
      "[3,   700] loss per image: 139.437302\n",
      "[3,   800] loss per image: 125.465111\n",
      "[3,   900] loss per image: 139.022522\n",
      "[3,  1000] loss per image: 136.094604\n",
      "[3,  1100] loss per image: 128.733276\n",
      "[3,  1200] loss per image: 126.364067\n",
      "[3,  1300] loss per image: 134.598389\n",
      "[3,  1400] loss per image: 131.117523\n",
      "[3,  1500] loss per image: 136.209671\n",
      "[3,  1600] loss per image: 136.553574\n",
      "[3,  1700] loss per image: 134.716232\n",
      "[3,  1800] loss per image: 132.223557\n",
      "[4,   100] loss per image: 125.376411\n",
      "[4,   200] loss per image: 131.589127\n",
      "[4,   300] loss per image: 129.630630\n",
      "[4,   400] loss per image: 138.043762\n",
      "[4,   500] loss per image: 132.415375\n",
      "[4,   600] loss per image: 135.412323\n",
      "[4,   700] loss per image: 139.988235\n",
      "[4,   800] loss per image: 125.660233\n",
      "[4,   900] loss per image: 138.691772\n",
      "[4,  1000] loss per image: 135.991577\n",
      "[4,  1100] loss per image: 129.489838\n",
      "[4,  1200] loss per image: 126.315636\n",
      "[4,  1300] loss per image: 134.605347\n",
      "[4,  1400] loss per image: 130.990021\n",
      "[4,  1500] loss per image: 136.083969\n",
      "[4,  1600] loss per image: 136.346893\n",
      "[4,  1700] loss per image: 134.235168\n",
      "[4,  1800] loss per image: 132.440445\n",
      "[5,   100] loss per image: 125.449577\n",
      "[5,   200] loss per image: 131.587051\n",
      "[5,   300] loss per image: 129.545715\n",
      "[5,   400] loss per image: 137.932037\n",
      "[5,   500] loss per image: 132.494705\n",
      "[5,   600] loss per image: 135.450638\n",
      "[5,   700] loss per image: 139.336807\n",
      "[5,   800] loss per image: 125.609337\n",
      "[5,   900] loss per image: 138.835419\n",
      "[5,  1000] loss per image: 135.931503\n",
      "[5,  1100] loss per image: 128.935074\n",
      "[5,  1200] loss per image: 126.158340\n",
      "[5,  1300] loss per image: 134.559784\n",
      "[5,  1400] loss per image: 130.978058\n",
      "[5,  1500] loss per image: 136.074921\n",
      "[5,  1600] loss per image: 136.198303\n",
      "[5,  1700] loss per image: 134.197830\n",
      "[5,  1800] loss per image: 132.502258\n",
      "[6,   100] loss per image: 125.450989\n",
      "[6,   200] loss per image: 131.611938\n",
      "[6,   300] loss per image: 129.548767\n",
      "[6,   400] loss per image: 137.920303\n",
      "[6,   500] loss per image: 132.456512\n",
      "[6,   600] loss per image: 135.317932\n",
      "[6,   700] loss per image: 140.010696\n",
      "[6,   800] loss per image: 126.434120\n",
      "[6,   900] loss per image: 138.783905\n",
      "[6,  1000] loss per image: 135.896683\n",
      "[6,  1100] loss per image: 130.203506\n",
      "[6,  1200] loss per image: 125.652382\n",
      "[6,  1300] loss per image: 134.557770\n",
      "[6,  1400] loss per image: 131.009811\n",
      "[6,  1500] loss per image: 136.052322\n",
      "[6,  1600] loss per image: 136.080215\n",
      "[6,  1700] loss per image: 134.169556\n",
      "[6,  1800] loss per image: 132.358917\n",
      "[7,   100] loss per image: 125.401695\n",
      "[7,   200] loss per image: 131.812119\n",
      "[7,   300] loss per image: 129.507309\n",
      "[7,   400] loss per image: 137.878204\n",
      "[7,   500] loss per image: 132.466232\n"
     ]
    },
    {
     "ename": "KeyboardInterrupt",
     "evalue": "",
     "output_type": "error",
     "traceback": [
      "\u001b[0;31m---------------------------------------------------------------------------\u001b[0m",
      "\u001b[0;31mKeyboardInterrupt\u001b[0m                         Traceback (most recent call last)",
      "\u001b[0;32m<ipython-input-49-546b695fb652>\u001b[0m in \u001b[0;36m<module>\u001b[0;34m\u001b[0m\n\u001b[1;32m     14\u001b[0m         \u001b[0mloss\u001b[0m \u001b[0;34m=\u001b[0m \u001b[0mcriterion\u001b[0m\u001b[0;34m(\u001b[0m\u001b[0moutputs\u001b[0m\u001b[0;34m.\u001b[0m\u001b[0mreshape\u001b[0m\u001b[0;34m(\u001b[0m\u001b[0;34m-\u001b[0m\u001b[0;36m1\u001b[0m\u001b[0;34m)\u001b[0m\u001b[0;34m,\u001b[0m\u001b[0mtorch\u001b[0m\u001b[0;34m.\u001b[0m\u001b[0mstack\u001b[0m\u001b[0;34m(\u001b[0m\u001b[0;34m(\u001b[0m\u001b[0mdata\u001b[0m\u001b[0;34m[\u001b[0m\u001b[0;36m1\u001b[0m\u001b[0;34m]\u001b[0m\u001b[0;34m[\u001b[0m\u001b[0;36m0\u001b[0m\u001b[0;34m]\u001b[0m\u001b[0;34m.\u001b[0m\u001b[0mfloat\u001b[0m\u001b[0;34m(\u001b[0m\u001b[0;34m)\u001b[0m\u001b[0;34m,\u001b[0m \u001b[0mdata\u001b[0m\u001b[0;34m[\u001b[0m\u001b[0;36m1\u001b[0m\u001b[0;34m]\u001b[0m\u001b[0;34m[\u001b[0m\u001b[0;36m1\u001b[0m\u001b[0;34m]\u001b[0m\u001b[0;34m.\u001b[0m\u001b[0mfloat\u001b[0m\u001b[0;34m(\u001b[0m\u001b[0;34m)\u001b[0m\u001b[0;34m)\u001b[0m\u001b[0;34m,\u001b[0m \u001b[0maxis\u001b[0m\u001b[0;34m=\u001b[0m\u001b[0;36m1\u001b[0m\u001b[0;34m)\u001b[0m\u001b[0;34m.\u001b[0m\u001b[0mreshape\u001b[0m\u001b[0;34m(\u001b[0m\u001b[0;34m-\u001b[0m\u001b[0;36m1\u001b[0m\u001b[0;34m)\u001b[0m\u001b[0;34m)\u001b[0m\u001b[0;34m\u001b[0m\u001b[0;34m\u001b[0m\u001b[0m\n\u001b[1;32m     15\u001b[0m \u001b[0;34m\u001b[0m\u001b[0m\n\u001b[0;32m---> 16\u001b[0;31m         \u001b[0mloss\u001b[0m\u001b[0;34m.\u001b[0m\u001b[0mbackward\u001b[0m\u001b[0;34m(\u001b[0m\u001b[0;34m)\u001b[0m\u001b[0;34m\u001b[0m\u001b[0;34m\u001b[0m\u001b[0m\n\u001b[0m\u001b[1;32m     17\u001b[0m         \u001b[0moptimizer\u001b[0m\u001b[0;34m.\u001b[0m\u001b[0mstep\u001b[0m\u001b[0;34m(\u001b[0m\u001b[0;34m)\u001b[0m\u001b[0;34m\u001b[0m\u001b[0;34m\u001b[0m\u001b[0m\n\u001b[1;32m     18\u001b[0m         \u001b[0mtrain_loss\u001b[0m\u001b[0;34m.\u001b[0m\u001b[0mappend\u001b[0m\u001b[0;34m(\u001b[0m\u001b[0mloss\u001b[0m\u001b[0;34m.\u001b[0m\u001b[0mitem\u001b[0m\u001b[0;34m(\u001b[0m\u001b[0;34m)\u001b[0m\u001b[0;34m)\u001b[0m\u001b[0;34m\u001b[0m\u001b[0;34m\u001b[0m\u001b[0m\n",
      "\u001b[0;32m~/.local/lib/python3.8/site-packages/torch/_tensor.py\u001b[0m in \u001b[0;36mbackward\u001b[0;34m(self, gradient, retain_graph, create_graph, inputs)\u001b[0m\n\u001b[1;32m    253\u001b[0m                 \u001b[0mcreate_graph\u001b[0m\u001b[0;34m=\u001b[0m\u001b[0mcreate_graph\u001b[0m\u001b[0;34m,\u001b[0m\u001b[0;34m\u001b[0m\u001b[0;34m\u001b[0m\u001b[0m\n\u001b[1;32m    254\u001b[0m                 inputs=inputs)\n\u001b[0;32m--> 255\u001b[0;31m         \u001b[0mtorch\u001b[0m\u001b[0;34m.\u001b[0m\u001b[0mautograd\u001b[0m\u001b[0;34m.\u001b[0m\u001b[0mbackward\u001b[0m\u001b[0;34m(\u001b[0m\u001b[0mself\u001b[0m\u001b[0;34m,\u001b[0m \u001b[0mgradient\u001b[0m\u001b[0;34m,\u001b[0m \u001b[0mretain_graph\u001b[0m\u001b[0;34m,\u001b[0m \u001b[0mcreate_graph\u001b[0m\u001b[0;34m,\u001b[0m \u001b[0minputs\u001b[0m\u001b[0;34m=\u001b[0m\u001b[0minputs\u001b[0m\u001b[0;34m)\u001b[0m\u001b[0;34m\u001b[0m\u001b[0;34m\u001b[0m\u001b[0m\n\u001b[0m\u001b[1;32m    256\u001b[0m \u001b[0;34m\u001b[0m\u001b[0m\n\u001b[1;32m    257\u001b[0m     \u001b[0;32mdef\u001b[0m \u001b[0mregister_hook\u001b[0m\u001b[0;34m(\u001b[0m\u001b[0mself\u001b[0m\u001b[0;34m,\u001b[0m \u001b[0mhook\u001b[0m\u001b[0;34m)\u001b[0m\u001b[0;34m:\u001b[0m\u001b[0;34m\u001b[0m\u001b[0;34m\u001b[0m\u001b[0m\n",
      "\u001b[0;32m~/.local/lib/python3.8/site-packages/torch/autograd/__init__.py\u001b[0m in \u001b[0;36mbackward\u001b[0;34m(tensors, grad_tensors, retain_graph, create_graph, grad_variables, inputs)\u001b[0m\n\u001b[1;32m    145\u001b[0m         \u001b[0mretain_graph\u001b[0m \u001b[0;34m=\u001b[0m \u001b[0mcreate_graph\u001b[0m\u001b[0;34m\u001b[0m\u001b[0;34m\u001b[0m\u001b[0m\n\u001b[1;32m    146\u001b[0m \u001b[0;34m\u001b[0m\u001b[0m\n\u001b[0;32m--> 147\u001b[0;31m     Variable._execution_engine.run_backward(\n\u001b[0m\u001b[1;32m    148\u001b[0m         \u001b[0mtensors\u001b[0m\u001b[0;34m,\u001b[0m \u001b[0mgrad_tensors_\u001b[0m\u001b[0;34m,\u001b[0m \u001b[0mretain_graph\u001b[0m\u001b[0;34m,\u001b[0m \u001b[0mcreate_graph\u001b[0m\u001b[0;34m,\u001b[0m \u001b[0minputs\u001b[0m\u001b[0;34m,\u001b[0m\u001b[0;34m\u001b[0m\u001b[0;34m\u001b[0m\u001b[0m\n\u001b[1;32m    149\u001b[0m         allow_unreachable=True, accumulate_grad=True)  # allow_unreachable flag\n",
      "\u001b[0;31mKeyboardInterrupt\u001b[0m: "
     ]
    },
    {
     "data": {
      "text/plain": [
       "<Figure size 720x504 with 0 Axes>"
      ]
     },
     "metadata": {},
     "output_type": "display_data"
    }
   ],
   "source": [
    "fig = plt.figure(figsize = (10, 7))\n",
    "rows = 1\n",
    "columns = 5\n",
    "\n",
    "epochs = 10\n",
    "train_loss = []\n",
    "flag = True\n",
    "for epoch in range(epochs):\n",
    "    running_loss = 0.0\n",
    "    for i, data in enumerate(trainset):\n",
    "        optimizer.zero_grad()\n",
    "        outputs = AEnet(data[0].float())\n",
    "#         print(outputs.shape)\n",
    "        loss = criterion(outputs.reshape(-1),torch.stack((data[1][0].float(), data[1][1].float()), axis=1).reshape(-1))\n",
    "        \n",
    "        loss.backward()\n",
    "        optimizer.step()\n",
    "        train_loss.append(loss.item())\n",
    "        running_loss += loss.item()\n",
    "        if i % 100 == 99:\n",
    "            print('[%d, %5d] loss per image: %.6f' %\n",
    "                  (epoch + 1, i + 1, loss.item()/32))\n",
    "#             print(outputs.shape)\n",
    "#             img_1 = outputs[0, 0, :]\n",
    "#             img_2 = outputs[0, 1, :]\n",
    "#             true_1 = torch.flatten(data[1][1][0])\n",
    "#             true_2 = torch.flatten(data[1][0][0])\n",
    "#             loss_1 = criterion(img_1.to(device), true_1.to(device))\n",
    "#             loss_2 = criterion(img_2.to(device), true_2.to(device))\n",
    "#             print(loss_1, loss_2)\n",
    "#             print(img_1.shape, img_2.shape, true_1.shape, true_2.shape)\n",
    "            \n",
    "#             true_1 = data[1][0][0]\n",
    "#             true_2 = data[1][0][1]\n",
    "#             output_1 = outputs[0].reshape((2, 28, 28))\n",
    "#             predic_1 = torch.Tensor.cpu(output_1[0])\n",
    "#             predic_2 = torch.Tensor.cpu(output_1[1])\n",
    "#             print(output_1.shape)\n",
    "#             print(predic_1.shape, predic_2.shape, true_1.shape, true_2.shape)\n",
    "            \n",
    "#             print(data[0][0][0].shape)\n",
    "#             given = data[0][0][0]\n",
    "            \n",
    "#             fig.add_subplot(rows, columns, 1)\n",
    "#             plt.imshow(true_1, cmap = 'gray')\n",
    "#             plt.axis(\"off\")\n",
    "#             plt.title(\"First True\")\n",
    "            \n",
    "#             fig.add_subplot(rows, columns, 2)\n",
    "#             plt.imshow(true_2, cmap = 'gray')\n",
    "#             plt.axis(\"off\")\n",
    "#             plt.title(\"Second True\")\n",
    "            \n",
    "#             fig.add_subplot(rows, columns, 3)\n",
    "#             plt.imshow(given)\n",
    "#             plt.axis(\"off\")\n",
    "#             plt.title(\"Given\")\n",
    "            \n",
    "#             fig.add_subplot(rows, columns, 4)\n",
    "#             plt.imshow(predic_1.detach().numpy())\n",
    "#             plt.axis(\"off\")\n",
    "#             plt.title(\"First Prediction\")\n",
    "            \n",
    "#             fig.add_subplot(rows, columns, 5)\n",
    "#             plt.imshow(predic_2.detach().numpy())\n",
    "#             plt.axis(\"off\")\n",
    "#             plt.title(\"Second Predicition\")\n",
    "\n",
    "#         def closure():\n",
    "#             if torch.is_grad_enabled():\n",
    "#                 optimizer.zero_grad()\n",
    "#             outputs=AEnet(data[0].float().to(device))\n",
    "#             loss = criterion(outputs.reshape(-1).to(device),torch.stack((data[1][0].float().to(device), data[1][1].float().to(device)), axis=0).reshape(-1))\n",
    "#             if loss.requires_grad:\n",
    "#                 loss.backward()\n",
    "#             return loss\n",
    "            \n",
    "            \n",
    "        \n",
    "print('Finished Training')\n",
    "flag = False"
   ]
  },
  {
   "cell_type": "code",
   "execution_count": 50,
   "metadata": {},
   "outputs": [
    {
     "name": "stdout",
     "output_type": "stream",
     "text": [
      "torch.Size([2, 28, 28])\n"
     ]
    },
    {
     "data": {
      "text/plain": [
       "<matplotlib.image.AxesImage at 0x2b722c38b2b0>"
      ]
     },
     "execution_count": 50,
     "metadata": {},
     "output_type": "execute_result"
    },
    {
     "data": {
      "image/png": "[encoded data removed]",
      "text/plain": [
       "<Figure size 432x288 with 1 Axes>"
      ]
     },
     "metadata": {
      "needs_background": "light"
     },
     "output_type": "display_data"
    }
   ],
   "source": [
    "print(outputs[0].shape)\n",
    "plt.imshow(outputs[0][1,:,:].reshape(28,28).cpu().detach().numpy())"
   ]
  },
  {
   "cell_type": "code",
   "execution_count": 51,
   "metadata": {},
   "outputs": [
    {
     "data": {
      "text/plain": [
       "<matplotlib.image.AxesImage at 0x2b722bb0c850>"
      ]
     },
     "execution_count": 51,
     "metadata": {},
     "output_type": "execute_result"
    },
    {
     "data": {
      "image/png": "[encoded data removed]",
      "text/plain": [
       "<Figure size 432x288 with 1 Axes>"
      ]
     },
     "metadata": {
      "needs_background": "light"
     },
     "output_type": "display_data"
    }
   ],
   "source": [
    "plt.imshow(data[1][1][1].squeeze(0))\n"
   ]
  },
  {
   "cell_type": "code",
   "execution_count": 52,
   "metadata": {},
   "outputs": [
    {
     "data": {
      "text/plain": [
       "<matplotlib.image.AxesImage at 0x2b722c3c5190>"
      ]
     },
     "execution_count": 52,
     "metadata": {},
     "output_type": "execute_result"
    },
    {
     "data": {
      "image/png": "[encoded data removed]",
      "text/plain": [
       "<Figure size 432x288 with 1 Axes>"
      ]
     },
     "metadata": {
      "needs_background": "light"
     },
     "output_type": "display_data"
    }
   ],
   "source": [
    "plt.imshow(data[1][0][1].squeeze(0))"
   ]
  },
  {
   "cell_type": "code",
   "execution_count": null,
   "metadata": {},
   "outputs": [],
   "source": []
  }
 ],
 "metadata": {
  "kernelspec": {
   "display_name": "Python 3",
   "language": "python",
   "name": "python3"
  },
  "language_info": {
   "codemirror_mode": {
    "name": "ipython",
    "version": 3
   },
   "file_extension": ".py",
   "mimetype": "text/x-python",
   "name": "python",
   "nbconvert_exporter": "python",
   "pygments_lexer": "ipython3",
   "version": "3.8.3"
  }
 },
 "nbformat": 4,
 "nbformat_minor": 5
}
