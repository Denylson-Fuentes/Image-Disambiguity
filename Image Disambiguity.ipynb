{
 "cells": [
  {
   "cell_type": "code",
   "execution_count": 1,
   "id": "0f3c1727",
   "metadata": {
    "gradient": {
     "editing": false
    }
   },
   "outputs": [],
   "source": [
    "import torch as torch\n",
    "import torchvision as tv\n",
    "from torchvision import datasets\n",
    "from torchvision import transforms\n",
    "import matplotlib.pyplot as plt\n",
    "import matplotlib.image as image\n",
    "import cv2 as cv\n",
    "from PIL import Image\n",
    "import numpy as np\n",
    "from torchvision.datasets.vision import VisionDataset\n",
    "from typing import Any, Callable, Dict, List, Optional, Tuple\n",
    "import os\n",
    "import os.path\n",
    "from torch import nn\n",
    "from torchvision.datasets.mnist import read_image_file, read_label_file\n",
    "from torchvision.datasets.utils import download_and_extract_archive, extract_archive, verify_str_arg, check_integrity"
   ]
  },
  {
   "cell_type": "code",
   "execution_count": 2,
   "id": "85eff5d8",
   "metadata": {},
   "outputs": [],
   "source": [
    "class MNISTsuperimposed(VisionDataset):\n",
    "    \"\"\"`MNIST <http://yann.lecun.com/exdb/mnist/>`_ Dataset.\n",
    "\n",
    "    Args:\n",
    "        root (string): Root directory of dataset where ``MNIST/processed/training.pt``\n",
    "            and  ``MNIST/processed/test.pt`` exist.\n",
    "        train (bool, optional): If True, creates dataset from ``training.pt``,\n",
    "            otherwise from ``test.pt``.\n",
    "        download (bool, optional): If true, downloads the dataset from the internet and\n",
    "            puts it in root directory. If dataset is already downloaded, it is not\n",
    "            downloaded again.\n",
    "        transform (callable, optional): A function/transform that  takes in an PIL image\n",
    "            and returns a transformed version. E.g, ``transforms.RandomCrop``\n",
    "        target_transform (callable, optional): A function/transform that takes in the\n",
    "            target and transforms it.\n",
    "    \"\"\"\n",
    "\n",
    "    mirrors = [\n",
    "        'http://yann.lecun.com/exdb/mnist/',\n",
    "        'https://ossci-datasets.s3.amazonaws.com/mnist/',\n",
    "    ]\n",
    "\n",
    "    resources = [\n",
    "        (\"train-images-idx3-ubyte.gz\", \"f68b3c2dcbeaaa9fbdd348bbdeb94873\"),\n",
    "        (\"train-labels-idx1-ubyte.gz\", \"d53e105ee54ea40749a09fcbcd1e9432\"),\n",
    "        (\"t10k-images-idx3-ubyte.gz\", \"9fb629c4189551a2d022fa330f9573f3\"),\n",
    "        (\"t10k-labels-idx1-ubyte.gz\", \"ec29112dd5afa0611ce80d1b7f02629c\")\n",
    "    ]\n",
    "\n",
    "    training_file = 'training.pt'\n",
    "    test_file = 'test.pt'\n",
    "    classes = ['0 - zero', '1 - one', '2 - two', '3 - three', '4 - four',\n",
    "               '5 - five', '6 - six', '7 - seven', '8 - eight', '9 - nine']\n",
    "\n",
    "    @property\n",
    "    def train_labels(self):\n",
    "        warnings.warn(\"train_labels has been renamed targets\")\n",
    "        return self.targets\n",
    "\n",
    "    @property\n",
    "    def test_labels(self):\n",
    "        warnings.warn(\"test_labels has been renamed targets\")\n",
    "        return self.targets\n",
    "\n",
    "    @property\n",
    "    def train_data(self):\n",
    "        warnings.warn(\"train_data has been renamed data\")\n",
    "        return self.data\n",
    "\n",
    "    @property\n",
    "    def test_data(self):\n",
    "        warnings.warn(\"test_data has been renamed data\")\n",
    "        return self.data\n",
    "\n",
    "    def __init__(\n",
    "            self,\n",
    "            root,\n",
    "            train= True,\n",
    "            transform = None,\n",
    "            target_transform = None,\n",
    "            download = False,\n",
    "    ):\n",
    "        super(MNISTsuperimposed, self).__init__(root, transform=transform,\n",
    "                                    target_transform=target_transform)\n",
    "        self.train = train  # training set or test set\n",
    "\n",
    "        if self._check_legacy_exist():\n",
    "            self.data, self.targets = self._load_legacy_data()\n",
    "\n",
    "        if download:\n",
    "            self.download()\n",
    "\n",
    "        if not self._check_exists():\n",
    "            raise RuntimeError('Dataset not found.' +\n",
    "                               ' You can use download=True to download it')\n",
    "\n",
    "        self.data, self.targets = self._load_data()\n",
    "        \n",
    "    def _check_legacy_exist(self):\n",
    "        processed_folder_exists = os.path.exists(self.processed_folder)\n",
    "        if not processed_folder_exists:\n",
    "            return False\n",
    "\n",
    "        return all(\n",
    "            check_integrity(os.path.join(self.processed_folder, file)) for file in (self.training_file, self.test_file)\n",
    "        )\n",
    "\n",
    "    def _load_legacy_data(self):\n",
    "        # This is for BC only. We no longer cache the data in a custom binary, but simply read from the raw data\n",
    "        # directly.\n",
    "        data_file = self.training_file if self.train else self.test_file\n",
    "        return torch.load(os.path.join(self.processed_folder, data_file))\n",
    "\n",
    "    def _load_data(self):\n",
    "        image_file = f\"{'train' if self.train else 't10k'}-images-idx3-ubyte\"\n",
    "        data = read_image_file(os.path.join(self.raw_folder, image_file))\n",
    "        #Technically, we do not even need the labels for now\n",
    "        # We just need the clean images of both types\n",
    "        randata = data[torch.randperm(data.shape[0]),:,:]\n",
    "        targets = (data, randata)\n",
    "        \n",
    "        \n",
    "        # Now do the ambiguation here\n",
    "        data = data + randata\n",
    "        return data, targets\n",
    "\n",
    "    def __getitem__(self, index):\n",
    "        \"\"\"\n",
    "        Args:\n",
    "            index (int): Index\n",
    "\n",
    "        Returns:\n",
    "            tuple: (image, target) where target is index of the target class.\n",
    "        \"\"\"\n",
    "        img, target = self.data[index], (self.targets[0][index], self.targets[1][index])\n",
    "        # doing this so that it is consistent with all other datasets\n",
    "        # to return a PIL Imagedata[torch.randperm(data.shape[0]),:,:]\n",
    "        img = Image.fromarray(img.numpy(), mode='L')\n",
    "        target0 = Image.fromarray(target[0].numpy(), mode='L')\n",
    "        target1 = Image.fromarray(target[1].numpy(), mode='L')\n",
    "\n",
    "        if self.transform is not None:\n",
    "            img = self.transform(img)\n",
    "\n",
    "        if self.target_transform is not None:\n",
    "            target = (self.target_transform(target0), self.target_transform(target1))\n",
    "            \n",
    "\n",
    "        return img, target\n",
    "\n",
    "    def __len__(self):\n",
    "        return len(self.data)\n",
    "\n",
    "    @property\n",
    "    def raw_folder(self):\n",
    "        return os.path.join(self.root, self.__class__.__name__, 'raw')\n",
    "\n",
    "    @property\n",
    "    def processed_folder(self) -> str:\n",
    "        return os.path.join(self.root, self.__class__.__name__, 'processed')\n",
    "\n",
    "    @property\n",
    "    def class_to_idx(self):\n",
    "        return {_class: i for i, _class in enumerate(self.classes)}\n",
    "\n",
    "    def _check_exists(self):\n",
    "        return all(\n",
    "            check_integrity(os.path.join(self.raw_folder, os.path.splitext(os.path.basename(url))[0]))\n",
    "            for url, _ in self.resources\n",
    "        )\n",
    "\n",
    "    def download(self):\n",
    "        \"\"\"Download the MNIST data if it doesn't exist already.\"\"\"\n",
    "\n",
    "        if self._check_exists():\n",
    "            return\n",
    "\n",
    "        os.makedirs(self.raw_folder, exist_ok=True)\n",
    "\n",
    "        # download files\n",
    "        for filename, md5 in self.resources:\n",
    "            for mirror in self.mirrors:\n",
    "                url = \"{}{}\".format(mirror, filename)\n",
    "                try:\n",
    "                    print(\"Downloading {}\".format(url))\n",
    "                    download_and_extract_archive(\n",
    "                        url, download_root=self.raw_folder,\n",
    "                        filename=filename,\n",
    "                        md5=md5\n",
    "                    )\n",
    "                except URLError as error:\n",
    "                    print(\n",
    "                        \"Failed to download (trying next):\\n{}\".format(error)\n",
    "                    )\n",
    "                    continue\n",
    "                finally:\n",
    "                    print()\n",
    "                break\n",
    "            else:\n",
    "                raise RuntimeError(\"Error downloading {}\".format(filename))\n",
    "\n",
    "    def extra_repr(self) -> str:\n",
    "        return \"Split: {}\".format(\"Train\" if self.train is True else \"Test\")"
   ]
  },
  {
   "cell_type": "code",
   "execution_count": 3,
   "id": "2ceee0ac",
   "metadata": {},
   "outputs": [],
   "source": [
    "class Downsample(object):\n",
    "    def __init__(self, size=[1,196]):\n",
    "        self.size=size\n",
    "\n",
    "    def __call__(self, tensor):\n",
    "        img = np.squeeze(tensor)\n",
    "        m = torch.nn.AvgPool2d(2, stride=2)\n",
    "        return m(img.unsqueeze(0))\n",
    "\n",
    "    def __repr__(self):\n",
    "        return self.__class__.__name__+'({})'.format(self.size)"
   ]
  },
  {
   "cell_type": "code",
   "execution_count": 4,
   "id": "df522df6",
   "metadata": {},
   "outputs": [
    {
     "name": "stderr",
     "output_type": "stream",
     "text": [
      "/Users/aditya-the-great/miniconda3/envs/torch-dev/lib/python3.9/site-packages/torchvision/datasets/mnist.py:498: UserWarning: The given NumPy array is not writeable, and PyTorch does not support non-writeable tensors. This means you can write to the underlying (supposedly non-writeable) NumPy array using the tensor. You may want to copy the array to protect its data or make it writeable before converting it to a tensor. This type of warning will be suppressed for the rest of this program. (Triggered internally at  ../torch/csrc/utils/tensor_numpy.cpp:180.)\n",
      "  return torch.from_numpy(parsed.astype(m[2], copy=False)).view(*s)\n"
     ]
    }
   ],
   "source": [
    "transform = transforms.Compose(\n",
    "    [transforms.Grayscale(),\n",
    "     transforms.ToTensor(),\n",
    "     Downsample()\n",
    "     ])\n",
    "target_transform= transforms.Compose(\n",
    "    [transforms.Grayscale(),\n",
    "     transforms.ToTensor()\n",
    "     ])\n",
    "mnist_superimposed = MNISTsuperimposed(\"./MNIST data/train\", train = True, download = True, transform = transform, target_transform=target_transform)"
   ]
  },
  {
   "cell_type": "code",
   "execution_count": 5,
   "id": "ae20cd25",
   "metadata": {},
   "outputs": [],
   "source": [
    "from torch.utils.data import DataLoader\n",
    "trainset = DataLoader(mnist_superimposed, batch_size=32, shuffle = False)"
   ]
  },
  {
   "cell_type": "code",
   "execution_count": 6,
   "id": "7a6bfac6",
   "metadata": {
    "gradient": {
     "editing": false
    }
   },
   "outputs": [],
   "source": [
    "def show_images(dataset, training = True):\n",
    "    \n",
    "    fig = plt.figure(figsize = (20, 14))\n",
    "    rows = 3\n",
    "    columns = 4\n",
    "    j=0\n",
    "    for i in range(1,columns*rows+1):\n",
    "        if i >=1 and i< 5:\n",
    "            fig.add_subplot(rows, columns, i)\n",
    "\n",
    "            plt.imshow(dataset[i][0].squeeze(0))\n",
    "        if i >=5 and i < 9:\n",
    "            fig.add_subplot(rows, columns, i)\n",
    "            plt.imshow(dataset[i-4][1][0].squeeze(0))\n",
    "        if i >= 9 and i<13:\n",
    "            fig.add_subplot(rows, columns, i)\n",
    "            plt.imshow(dataset[i-8][1][1].squeeze(0))"
   ]
  },
  {
   "cell_type": "code",
   "execution_count": 7,
   "id": "44387401",
   "metadata": {
    "gradient": {
     "editing": false
    }
   },
   "outputs": [
    {
     "data": {
      "image/png": "[encoded data removed]",
      "text/plain": [
       "<Figure size 1440x1008 with 12 Axes>"
      ]
     },
     "metadata": {
      "needs_background": "light"
     },
     "output_type": "display_data"
    }
   ],
   "source": [
    "show_images(mnist_superimposed)"
   ]
  },
  {
   "cell_type": "code",
   "execution_count": 8,
   "id": "d0241c7e",
   "metadata": {
    "gradient": {}
   },
   "outputs": [],
   "source": [
    "import torch\n",
    "from torch import nn as nn\n",
    "from torch.nn import Conv2d, ConvTranspose2d, Linear, Sequential, Flatten, ReLU"
   ]
  },
  {
   "cell_type": "code",
   "execution_count": 9,
   "id": "473dae35",
   "metadata": {
    "gradient": {}
   },
   "outputs": [],
   "source": [
    "from pdb import set_trace\n",
    "class AE(nn.Module):\n",
    "    def __init__(self):\n",
    "        super(AE,self).__init__()\n",
    "            \n",
    "        self.Encoder = nn.Sequential(\n",
    "            nn.Conv2d(1,32,kernel_size=2, padding=1, stride=1),\n",
    "            nn.LeakyReLU(),\n",
    "            nn.Conv2d(32,32,kernel_size =3, padding=1, stride=1),\n",
    "            nn.LeakyReLU(),\n",
    "            nn.Conv2d(32,64,kernel_size =5, padding=2, stride=2),\n",
    "            nn.Conv2d(64,64,kernel_size =3, padding=1, stride=1),\n",
    "            nn.LeakyReLU(),\n",
    "            nn.Conv2d(64,128,kernel_size =5, padding=2, stride=2),\n",
    "            nn.Conv2d(128,128,kernel_size =3, padding=1, stride=1),\n",
    "            nn.LeakyReLU(),\n",
    "            nn.Conv2d(128,64,kernel_size =3, padding=1, stride=1),\n",
    "            nn.LeakyReLU(),\n",
    "            nn.Conv2d(64,8,kernel_size =3, padding=1, stride=1),\n",
    "            nn.LeakyReLU())\n",
    "\n",
    "        self.Decoder = nn.Sequential(\n",
    "            nn.ConvTranspose2d(8,64,kernel_size=3, padding=1, stride=1),\n",
    "            nn.LeakyReLU(),\n",
    "            nn.ConvTranspose2d(64,128,kernel_size=3, padding=1, stride=1),\n",
    "            nn.LeakyReLU(),\n",
    "            nn.ConvTranspose2d(128,64,kernel_size=3, padding=1, stride=2),\n",
    "            nn.ConvTranspose2d(64,64,kernel_size=5, padding=2, stride=1),\n",
    "            nn.LeakyReLU(),\n",
    "            nn.ConvTranspose2d(64,32,kernel_size=3, padding=1, stride=2),\n",
    "            nn.ConvTranspose2d(32,32,kernel_size=5, padding=2, stride=1),\n",
    "            nn.LeakyReLU(),\n",
    "            nn.ConvTranspose2d(32,16,kernel_size=3, padding=1, stride=1),\n",
    "            nn.LeakyReLU(),\n",
    "            nn.ConvTranspose2d(16,1,kernel_size=2,  stride=1),\n",
    "            nn.LeakyReLU())\n",
    "\n",
    "        \n",
    "        self.upsample = nn.Sequential(\n",
    "            nn.Linear(196, 196),\n",
    "            nn.LeakyReLU(),\n",
    "            nn.Linear(196,256),\n",
    "            nn.Linear(256,256),\n",
    "            nn.LeakyReLU(),\n",
    "            nn.Linear(256, 512),\n",
    "            nn.Linear(512,512),\n",
    "            nn.LeakyReLU(),\n",
    "            nn.Linear(256,512),\n",
    "            nn.Linear(256,512),\n",
    "            nn.LeakyReLU(),\n",
    "            nn.Linear(512,784),\n",
    "            nn.Linear(512,784),\n",
    "            nn.ReLU(),\n",
    "        )\n",
    "        \n",
    "    def forward(self,x):\n",
    "        output = self.Encoder[:5](x)\n",
    "        output = self.Encoder[6](output + self.Encoder[5](output))\n",
    "        output = self.Encoder[7](output)\n",
    "        output = self.Encoder[9:](self.Encoder[8](output) + output)\n",
    "        output = self.Decoder[:5](output)\n",
    "        output = self.Decoder[6](output + self.Decoder[5](output))\n",
    "        output = self.Decoder[7](output)\n",
    "        output = self.Decoder[9:](self.Decoder[8](output) + output)\n",
    "        output = self.upsample[1](self.upsample[0](torch.flatten(output, 2))+torch.flatten(output, 2))\n",
    "        output = self.upsample[2](output)\n",
    "        output = self.upsample[4](self.upsample[3](output) + output)\n",
    "        output = self.upsample[5](output)\n",
    "        output = self.upsample[7](self.upsample[6](output) + output)\n",
    "        o1 = output[...,:256]\n",
    "        o2 = output[...,256:]\n",
    "        o1 = self.upsample[8](o1)\n",
    "        o2 = self.upsample[9](o2)\n",
    "        o1 = self.upsample[10](o1)\n",
    "        o2 = self.upsample[10](o2)\n",
    "        o1 = self.upsample[11](o1)\n",
    "        o2 = self.upsample[12](o2)\n",
    "        o2 = self.upsample[13](o1)\n",
    "        o2 = self.upsample[13](o2)\n",
    "        return (o1, o2)"
   ]
  },
  {
   "cell_type": "code",
   "execution_count": 10,
   "metadata": {},
   "outputs": [
    {
     "name": "stdout",
     "output_type": "stream",
     "text": [
      "False\n"
     ]
    }
   ],
   "source": [
    "print(torch.cuda.is_available())"
   ]
  },
  {
   "cell_type": "code",
   "execution_count": 28,
   "id": "180df0cc",
   "metadata": {},
   "outputs": [
    {
     "name": "stdout",
     "output_type": "stream",
     "text": [
      "cpu\n"
     ]
    }
   ],
   "source": [
    "device = 'cuda' if torch.cuda.is_available() else 'cpu'\n",
    "AEnet = AE().to(device)\n",
    "optimizer = torch.optim.Adam(AEnet.parameters(), lr=1e-3)\n",
    "criterion = nn.BCEWithLogitsLoss()\n",
    "print(device)"
   ]
  },
  {
   "cell_type": "code",
   "execution_count": 29,
   "id": "015cf33e",
   "metadata": {
    "scrolled": true
   },
   "outputs": [
    {
     "name": "stdout",
     "output_type": "stream",
     "text": [
      "[1,   100] loss : 0.936217\n",
      "[1,   200] loss : 0.945790\n",
      "[1,   300] loss : 0.937069\n",
      "[1,   400] loss : 0.955329\n",
      "[1,   500] loss : 0.949387\n",
      "[1,   600] loss : 0.958036\n",
      "[1,   700] loss : 0.966843\n",
      "[1,   800] loss : 0.942438\n",
      "[1,   900] loss : 0.951528\n",
      "[1,  1000] loss : 0.954080\n",
      "[1,  1100] loss : 0.938779\n",
      "[1,  1200] loss : 0.934320\n",
      "[1,  1300] loss : 0.962396\n",
      "[1,  1400] loss : 0.948283\n",
      "[1,  1500] loss : 0.947750\n",
      "[1,  1600] loss : 0.969498\n",
      "[1,  1700] loss : 226.882507\n",
      "[1,  1800] loss : 1.066120\n",
      "Finished Training\n"
     ]
    }
   ],
   "source": [
    "epochs = 1\n",
    "train_loss = []\n",
    "flag = True\n",
    "for epoch in range(epochs):\n",
    "    running_loss = 0.0\n",
    "    for i, data in enumerate(trainset):\n",
    "        optimizer.zero_grad()\n",
    "        outputs = AEnet(data[0].to(device))\n",
    "        loss = criterion(outputs[0].squeeze(1),torch.flatten(data[1][0],1).to(device)) + criterion(outputs[1].squeeze(1),torch.flatten(data[1][1],1).to(device))\n",
    "        loss.backward()\n",
    "        optimizer.step()\n",
    "        train_loss.append(loss.item())\n",
    "        running_loss += loss.item()\n",
    "        if i % 100 == 99:\n",
    "            print('[%d, %5d] loss : %.6f' %\n",
    "                  (epoch + 1, i + 1, loss.item()))\n",
    "        \n",
    "print('Finished Training')\n",
    "flag = False"
   ]
  },
  {
   "cell_type": "code",
   "execution_count": 31,
   "id": "7c1f55a9",
   "metadata": {},
   "outputs": [
    {
     "name": "stdout",
     "output_type": "stream",
     "text": [
      "torch.Size([32, 1, 784])\n"
     ]
    },
    {
     "data": {
      "text/plain": [
       "<matplotlib.image.AxesImage at 0x7fa7251b7910>"
      ]
     },
     "execution_count": 31,
     "metadata": {},
     "output_type": "execute_result"
    },
    {
     "data": {
      "image/png": "[encoded data removed]",
      "text/plain": [
       "<Figure size 432x288 with 1 Axes>"
      ]
     },
     "metadata": {
      "needs_background": "light"
     },
     "output_type": "display_data"
    }
   ],
   "source": [
    "import matplotlib.pyplot as plt\n",
    "print(outputs[0].shape)\n",
    "plt.imshow(outputs[0][1,:,:].reshape(28,28).cpu().detach().numpy())"
   ]
  },
  {
   "cell_type": "code",
   "execution_count": 35,
   "id": "09d406df",
   "metadata": {},
   "outputs": [
    {
     "data": {
      "text/plain": [
       "<matplotlib.image.AxesImage at 0x7fa722bee6a0>"
      ]
     },
     "execution_count": 35,
     "metadata": {},
     "output_type": "execute_result"
    },
    {
     "data": {
      "image/png": "[encoded data removed]",
      "text/plain": [
       "<Figure size 432x288 with 1 Axes>"
      ]
     },
     "metadata": {
      "needs_background": "light"
     },
     "output_type": "display_data"
    }
   ],
   "source": [
    "plt.imshow(data[1][0][0].squeeze(0))"
   ]
  },
  {
   "cell_type": "code",
   "execution_count": null,
   "id": "77dc4345",
   "metadata": {},
   "outputs": [],
   "source": []
  }
 ],
 "metadata": {
  "kernelspec": {
   "display_name": "Python 3",
   "language": "python",
   "name": "python3"
  },
  "language_info": {
   "codemirror_mode": {
    "name": "ipython",
    "version": 3
   },
   "file_extension": ".py",
   "mimetype": "text/x-python",
   "name": "python",
   "nbconvert_exporter": "python",
   "pygments_lexer": "ipython3",
   "version": "3.9.4"
  }
 },
 "nbformat": 4,
 "nbformat_minor": 5
}
